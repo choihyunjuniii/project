{
 "cells": [
  {
   "cell_type": "code",
   "execution_count": null,
   "metadata": {},
   "outputs": [],
   "source": [
    "num1=int(input('첫번째정수입력>>'))\n",
    "num2=int(input('두번째정수입력>>'))\n",
    "while num1+num2 :\n",
    "    print(num1+num2)\n",
    "\n",
    "    if num1==0 and num2==0:\n",
    "        break"
   ]
  },
  {
   "cell_type": "code",
   "execution_count": 9,
   "metadata": {
    "scrolled": true
   },
   "outputs": [
    {
     "name": "stdout",
     "output_type": "stream",
     "text": [
      "첫번째정수입력>>7\n",
      "두번째정수입력>>3\n",
      "10\n"
     ]
    }
   ],
   "source": [
    "num1=int(input('첫번째정수입력>>'))\n",
    "num2=int(input('두번째정수입력>>'))\n",
    "while num1+num2 :\n",
    "    print(num1+num2)\n",
    "    break\n",
    "    if num1==0 and num2==0:\n",
    "        print('프로그램이 종료되었습니다.')\n",
    "        break\n",
    "    else:\n",
    "        print('두 정수의 합'.format(num1+num2))"
   ]
  },
  {
   "cell_type": "code",
   "execution_count": 12,
   "metadata": {
    "scrolled": true
   },
   "outputs": [
    {
     "name": "stdout",
     "output_type": "stream",
     "text": [
      "첫번째정수입력>>7\n",
      "두번째정수입력>>3\n",
      "두 정수의 합 : 10\n",
      "첫번째정수입력>>1\n",
      "두번째정수입력>>2\n",
      "두 정수의 합 : 3\n",
      "첫번째정수입력>>13\n",
      "두번째정수입력>>77\n",
      "두 정수의 합 : 90\n",
      "첫번째정수입력>>0\n",
      "두번째정수입력>>0\n",
      "두 정수의 합 : 0\n",
      "프로그램이 종료되었습니다.\n"
     ]
    }
   ],
   "source": [
    "while True :\n",
    "    num1=int(input('첫번째정수입력>>'))\n",
    "    num2=int(input('두번째정수입력>>'))\n",
    "    print('두 정수의 합 : {}'.format(num1+num2))\n",
    "    if num1==num2==0:\n",
    "        print('프로그램이 종료되었습니다.')\n",
    "        break"
   ]
  },
  {
   "cell_type": "code",
   "execution_count": 14,
   "metadata": {
    "scrolled": true
   },
   "outputs": [
    {
     "name": "stdout",
     "output_type": "stream",
     "text": [
      "첫정수>>17\n",
      "두정수>>3\n",
      "두 정수합 : 20\n",
      "첫정수>>0\n",
      "두정수>>0\n",
      "두 정수합 : 0\n",
      "프로그램종료\n"
     ]
    }
   ],
   "source": [
    "while True : \n",
    "    num3=int(input('첫정수>>'))\n",
    "    num4=int(input('두정수>>'))\n",
    "    print('두 정수합 : {}'.format(num3+num4))\n",
    "    if num3==num4==0:\n",
    "        print('프로그램종료')\n",
    "        break"
   ]
  },
  {
   "cell_type": "code",
   "execution_count": null,
   "metadata": {},
   "outputs": [],
   "source": [
    "#랜더ㅁ"
   ]
  },
  {
   "cell_type": "code",
   "execution_count": 1,
   "metadata": {},
   "outputs": [
    {
     "name": "stdout",
     "output_type": "stream",
     "text": [
      "숫자를 입력하세요>>7\n",
      "7보다 작은 수 입니다.\n",
      "숫자를 입력하세요>>4\n",
      "4보다 큰 수 입니다.\n",
      "숫자를 입력하세요>>5\n",
      "정답을 맞추셨습니다.\n"
     ]
    }
   ],
   "source": [
    "#랜덤수 출력하기\n",
    "import random\n",
    "number=random.randint(1,50)\n",
    "while True : \n",
    "    num=int(input('숫자를 입력하세요>>'))\n",
    "    if number < num:\n",
    "        print('{}보다 작은 수 입니다.'.format(num))\n",
    "    elif number>num:\n",
    "        print('{}보다 큰 수 입니다.'.format(num))\n",
    "    else :\n",
    "        print('정답을 맞추셨습니다.')\n",
    "        break"
   ]
  },
  {
   "cell_type": "code",
   "execution_count": null,
   "metadata": {},
   "outputs": [],
   "source": [
    "w1=int(input('현재몸무게'\n",
    "w2=60\n",
    "while True :\n",
    "    w1-"
   ]
  }
 ],
 "metadata": {
  "kernelspec": {
   "display_name": "Python 3",
   "language": "python",
   "name": "python3"
  },
  "language_info": {
   "codemirror_mode": {
    "name": "ipython",
    "version": 3
   },
   "file_extension": ".py",
   "mimetype": "text/x-python",
   "name": "python",
   "nbconvert_exporter": "python",
   "pygments_lexer": "ipython3",
   "version": "3.8.5"
  }
 },
 "nbformat": 4,
 "nbformat_minor": 4
}
