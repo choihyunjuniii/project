{
 "cells": [
  {
   "cell_type": "code",
   "execution_count": 3,
   "metadata": {},
   "outputs": [
    {
     "name": "stdout",
     "output_type": "stream",
     "text": [
      "실행문장 실행\n"
     ]
    }
   ],
   "source": [
    "if True:\n",
    "    print(\"실행문장 실행\")"
   ]
  },
  {
   "cell_type": "code",
   "execution_count": 2,
   "metadata": {},
   "outputs": [],
   "source": [
    "if False:\n",
    "    print(\"실행문장 실행\")"
   ]
  },
  {
   "cell_type": "code",
   "execution_count": null,
   "metadata": {},
   "outputs": [],
   "source": [
    "#if True :콜른을 꼭 적어야 함"
   ]
  },
  {
   "cell_type": "code",
   "execution_count": 5,
   "metadata": {},
   "outputs": [
    {
     "name": "stdout",
     "output_type": "stream",
     "text": [
      "d\n",
      "IF 문 밖의 실행문장\n"
     ]
    }
   ],
   "source": [
    "if True :\n",
    "    print('d')\n",
    "print(\"IF 문 밖의 실행문장\")"
   ]
  },
  {
   "cell_type": "code",
   "execution_count": 7,
   "metadata": {},
   "outputs": [
    {
     "name": "stdout",
     "output_type": "stream",
     "text": [
      "10000\n",
      "택시를 탄다\n"
     ]
    }
   ],
   "source": [
    "money=int(input())\n",
    "if money >= 10000 :\n",
    "    print('택시를 탄다')"
   ]
  },
  {
   "cell_type": "code",
   "execution_count": 10,
   "metadata": {},
   "outputs": [
    {
     "name": "stdout",
     "output_type": "stream",
     "text": [
      "실행문정1\n"
     ]
    }
   ],
   "source": [
    "if True:\n",
    "    print(\"실행문정1\")\n",
    "else:\n",
    "    print(\"실행문장2\")"
   ]
  },
  {
   "cell_type": "code",
   "execution_count": 11,
   "metadata": {},
   "outputs": [
    {
     "name": "stdout",
     "output_type": "stream",
     "text": [
      "실행문장2\n"
     ]
    }
   ],
   "source": [
    "if False:\n",
    "    print(\"실행문정1\")\n",
    "else:\n",
    "    print(\"실행문장2\")"
   ]
  },
  {
   "cell_type": "code",
   "execution_count": 12,
   "metadata": {},
   "outputs": [
    {
     "name": "stdout",
     "output_type": "stream",
     "text": [
      "9000\n",
      "버스를 탄다.\n"
     ]
    }
   ],
   "source": [
    "money=int(input())\n",
    "if money>=10000:\n",
    "    print('택시를 탄다')\n",
    "else :\n",
    "    print('버스를 탄다.')"
   ]
  },
  {
   "cell_type": "code",
   "execution_count": 13,
   "metadata": {},
   "outputs": [
    {
     "name": "stdout",
     "output_type": "stream",
     "text": [
      "11000\n",
      "택시를 탄다\n"
     ]
    }
   ],
   "source": [
    "money=int(input())\n",
    "if money>=10000:\n",
    "    print('택시를 탄다')\n",
    "else :\n",
    "    print('버스를 탄다.')"
   ]
  },
  {
   "cell_type": "code",
   "execution_count": 16,
   "metadata": {},
   "outputs": [
    {
     "name": "stdout",
     "output_type": "stream",
     "text": [
      "30\n",
      "3과 5의 배수입니다.\n"
     ]
    }
   ],
   "source": [
    "num=int(input())\n",
    "if num%15==0 :\n",
    "    print('3과 5의 배수입니다.')\n",
    "else :\n",
    "    print('3과 5의 배수가 아닙니다.')"
   ]
  },
  {
   "cell_type": "code",
   "execution_count": 19,
   "metadata": {
    "scrolled": true
   },
   "outputs": [
    {
     "name": "stdout",
     "output_type": "stream",
     "text": [
      "5\n",
      "3과 5의 배수가 아닙니다.\n"
     ]
    }
   ],
   "source": [
    "num=int(input())\n",
    "if num%15==0 :\n",
    "    print('3과 5의 배수입니다.')\n",
    "else :\n",
    "    print('3과 5의 배수가 아닙니다.')"
   ]
  },
  {
   "cell_type": "code",
   "execution_count": 20,
   "metadata": {},
   "outputs": [
    {
     "name": "stdout",
     "output_type": "stream",
     "text": [
      "30\n",
      "3과 5의 배수입니다.\n"
     ]
    }
   ],
   "source": [
    "num=int(input())\n",
    "if num%3==0 and num%5==0 :\n",
    "    print('3과 5의 배수입니다.')\n",
    "else :\n",
    "    print('3과 5의 배수가 아닙니다.')"
   ]
  },
  {
   "cell_type": "code",
   "execution_count": 21,
   "metadata": {
    "scrolled": true
   },
   "outputs": [
    {
     "name": "stdout",
     "output_type": "stream",
     "text": [
      "첫번째정수입력>>41\n",
      "두번째정수입력>>41\n",
      "두 수가 똑같습니다.\n"
     ]
    }
   ],
   "source": [
    "#변수num1과 num2에 숫자를 입력받아 크기를 비교하시오\n",
    "num1=int(input('첫번째정수입력>>'))\n",
    "num2=int(input('두번째정수입력>>'))\n",
    "#1이 2보다 크면 '첫번째' 정수가 더큽니다\n",
    "if num1 > num2 :\n",
    "    print('첫번째 정수가 더 큽니다')\n",
    "#1이 2보다 작으면 '두번째 정주가 더큽니다'\n",
    "elif num1 < num2 :\n",
    "    print('두번째 정수가 더 큽니다.')\n",
    "#1과2가 같으면 '두 ㅜㄱ가 똑같습니다'\n",
    "#elif num1==num2 :\n",
    "else :\n",
    "    print('두 수가 똑같습니다.')"
   ]
  },
  {
   "cell_type": "code",
   "execution_count": 22,
   "metadata": {},
   "outputs": [
    {
     "name": "stdout",
     "output_type": "stream",
     "text": [
      "98\n",
      "A학점입니다.\n"
     ]
    }
   ],
   "source": [
    "s=int(input())\n",
    "if s>=90 and s<=100 :\n",
    "    print('A학점입니다.')\n",
    "elif s>=80 and s<90 :\n",
    "    print('B학점입니다')\n",
    "elif s>=70 and s<80 :\n",
    "    print('C학점입니다')\n",
    "elif s>=60 and s<70 :\n",
    "    print('D학점입니다')\n",
    "else :\n",
    "    print('F학점입니다')"
   ]
  },
  {
   "cell_type": "code",
   "execution_count": 28,
   "metadata": {},
   "outputs": [
    {
     "name": "stdout",
     "output_type": "stream",
     "text": [
      "3\n",
      "F학점입니다\n"
     ]
    }
   ],
   "source": [
    "s=int(input())\n",
    "if s>=90 and s<=100 :\n",
    "    print('A학점입니다.')\n",
    "elif s>=80 and s<90 :\n",
    "    print('B학점입니다')\n",
    "elif s>=70 and s<80 :\n",
    "    print('C학점입니다')\n",
    "elif s>=60 and s<70 :\n",
    "    print('D학점입니다')\n",
    "elif s<60 :\n",
    "    print('F학점입니다')"
   ]
  },
  {
   "cell_type": "code",
   "execution_count": 25,
   "metadata": {},
   "outputs": [
    {
     "name": "stdout",
     "output_type": "stream",
     "text": [
      "36\n",
      "F학점입니다\n"
     ]
    }
   ],
   "source": [
    "s=int(input())\n",
    "if s>=90 and s<=100 :\n",
    "    print('A학점입니다.')\n",
    "elif s>=80 and s<90 :\n",
    "    print('B학점입니다')\n",
    "elif s>=70 and s<80 :\n",
    "    print('C학점입니다')\n",
    "elif s>=60 and s<70 :\n",
    "    print('D학점입니다')\n",
    "else :\n",
    "    print('F학점입니다')"
   ]
  },
  {
   "cell_type": "code",
   "execution_count": 29,
   "metadata": {},
   "outputs": [
    {
     "name": "stdout",
     "output_type": "stream",
     "text": [
      "85\n",
      "B학점입니다\n"
     ]
    }
   ],
   "source": [
    "s=int(input())\n",
    "if 100 >=s>=90 :\n",
    "    print('A학점입니다.')\n",
    "elif 90>s>=80 :\n",
    "    print('B학점입니다')\n",
    "elif s>=70 and s<80 :\n",
    "    print('C학점입니다')\n",
    "elif s>=60 and s<70 :\n",
    "    print('D학점입니다')\n",
    "else :\n",
    "    print('F학점입니다')"
   ]
  },
  {
   "cell_type": "code",
   "execution_count": 32,
   "metadata": {},
   "outputs": [
    {
     "name": "stdout",
     "output_type": "stream",
     "text": [
      "700\n",
      "에스프레소\n"
     ]
    }
   ],
   "source": [
    "m=int(input())\n",
    "if m-600:\n",
    "    print('에스프레소')\n",
    "elif m-1000:\n",
    "    print('아메리카노')\n",
    "elif m-1300 :\n",
    "    print('카페라때')"
   ]
  },
  {
   "cell_type": "code",
   "execution_count": null,
   "metadata": {},
   "outputs": [],
   "source": [
    "m=int(input('금액을 입력하세요>>'))\n",
    "menu=int(input('''커피를 고르세요. [1]에스프레소(600원) [2]아메리카노(1000원) [3]카페라떼(1300원) >>'''))\n",
    "if menu ==1 :change= m-600\n",
    "elif menu ==2 :change=m-1000\n",
    "elif menu ==3 :change=m-1300\n",
    "print('거스름돈 : %d원' %change)"
   ]
  },
  {
   "cell_type": "code",
   "execution_count": null,
   "metadata": {},
   "outputs": [],
   "source": [
    "m=int(input('금액을 입력하세요>>'))\n",
    "s1=600\n",
    "s2=1000\n",
    "s3=1300\n",
    "\n",
    "sel=int(input('[1]에스프레소(600) [2]아메리카노(1000) [3]카페라떼(1300) >>'))\n",
    "if sel == 1:\n",
    "    chg = m-s1\n",
    "elif sel == 2:\n",
    "    chg = m-s2\n",
    "elif sel == 3:\n",
    "    chg = m-s3\n",
    "print = int(input('거스름 돈 : {}원'.format(chg)))"
   ]
  }
 ],
 "metadata": {
  "kernelspec": {
   "display_name": "Python 3",
   "language": "python",
   "name": "python3"
  },
  "language_info": {
   "codemirror_mode": {
    "name": "ipython",
    "version": 3
   },
   "file_extension": ".py",
   "mimetype": "text/x-python",
   "name": "python",
   "nbconvert_exporter": "python",
   "pygments_lexer": "ipython3",
   "version": "3.8.5"
  }
 },
 "nbformat": 4,
 "nbformat_minor": 4
}
