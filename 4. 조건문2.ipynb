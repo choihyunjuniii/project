{
 "cells": [
  {
   "cell_type": "code",
   "execution_count": null,
   "metadata": {},
   "outputs": [],
   "source": [
    "m=int(input('금액을 입력하세요>>'))\n",
    "s1=600\n",
    "s2=1000\n",
    "s3=1300\n",
    "\n",
    "sel=int(input('[1]에스프레소(600) [2]아메리카노(1000) [3]카페라떼(1300) >>'))\n",
    "if sel == 1:\n",
    "    chg = m-s1\n",
    "elif sel == 2:\n",
    "    chg = m-s2\n",
    "elif sel == 3:\n",
    "    chg = m-s3\n",
    "print = int(input('거스름 돈 : {}원'.format(chg)))"
   ]
  },
  {
   "cell_type": "code",
   "execution_count": null,
   "metadata": {},
   "outputs": [],
   "source": [
    "m=int(input('금액을 입력하세요>>'))\n",
    "print('커피를 고르세요')\n",
    "\n",
    "sel=int(input('[1]에스프레소(600) [2]아메리카노(1000) [3]카페라떼(1300) >>'))\n",
    "if sel == 1:\n",
    "    chg = m-600\n",
    "elif sel == 2:\n",
    "    chg = m-1000\n",
    "elif sel == 3:\n",
    "    chg = m-1300\n",
    "print('거스름 돈 :',chg)"
   ]
  },
  {
   "cell_type": "code",
   "execution_count": null,
   "metadata": {},
   "outputs": [],
   "source": [
    "m=int(input('금액을 입력하세요>>'))\n",
    "\n",
    "sel=int(input('[1]에스프레소(600) [2]아메리카노(1000) [3]카페라떼(1300) >>'))\n",
    "if sel == 1:\n",
    "    chg = m-600\n",
    "elif sel == 2:\n",
    "    chg = m-1000\n",
    "elif sel == 3:\n",
    "    chg = m-1300\n",
    "else :\n",
    "    print('다시 선택하세요')\n",
    "    m=chg\n",
    "print('거스름 돈:',chg)"
   ]
  },
  {
   "cell_type": "code",
   "execution_count": 5,
   "metadata": {
    "scrolled": true
   },
   "outputs": [
    {
     "name": "stdout",
     "output_type": "stream",
     "text": [
      "---------- [sm cofee] ----------\n",
      "금액을 입력하세요>>500\n",
      "커피를 고르세오.\n",
      "[1]에스프레소(600) [2]아메리카노(1000) [3]카페라떼(1300) >>1\n",
      "거스름돈 : -100\n"
     ]
    }
   ],
   "source": [
    "print('-'*10,'[sm cofee]','-'*10)\n",
    "m=int(input('금액을 입력하세요>>'))\n",
    "print('커피를 고르세오.')\n",
    "sel=int(input('[1]에스프레소(600) [2]아메리카노(1000) [3]카페라떼(1300) >>'))\n",
    "if sel == 1:\n",
    "    chg = m-600\n",
    "elif sel == 2:\n",
    "    chg = m-1000\n",
    "elif sel == 3:\n",
    "    chg = m-1300\n",
    "elif sel==1 and m<600 :\n",
    "    print('돈이 부족해요..T^T')\n",
    "elif sel==2 and m<1000 :\n",
    "    print('돈이 부족해요..T^T')\n",
    "elif sel==3 and m<1300 :\n",
    "    print('돈이 부족해요..T^T')\n",
    "print('거스름돈 :',chg)"
   ]
  },
  {
   "cell_type": "code",
   "execution_count": null,
   "metadata": {},
   "outputs": [],
   "source": [
    "print('-'*10,'[sm cofee]','-'*10)\n",
    "m=int(input('금액을 입력하세요>>'))\n",
    "print('커피를 고르세오.')\n",
    "sel=int(input('[1]에스프레소(600) [2]아메리카노(1000) [3]카페라떼(1300) >>'))\n",
    "if sel == 1:\n",
    "    chg = m-600\n",
    "elif sel == 2:\n",
    "    chg = m-1000\n",
    "elif sel == 3:\n",
    "    chg = m-1300\n",
    "else :\n",
    "    print('다시 선택하세요')\n",
    "    chg=m\n",
    "\n",
    "if chg <0:\n",
    "    print('돈이 부족해요..T^T')\n",
    "else :\n",
    "    print('거스름돈 : {}원'.format(chg))\n",
    "    print('천원 : {}장'.format(chg//1000))\n",
    "    print('오백원 : {}장'.format(chg%1000//500))\n",
    "    print('백원 : {}장'.format(chg%500//100))"
   ]
  },
  {
   "cell_type": "code",
   "execution_count": null,
   "metadata": {},
   "outputs": [],
   "source": [
    "print('-'*10,'[sm cofee]','-'*10)\n",
    "m=int(input('금액을 입력하세요>>'))\n",
    "print('커피를 고르세오.')\n",
    "sel=int(input('[1]에스프레소(600) [2]아메리카노(1000) [3]카페라떼(1300) >>'))\n",
    "if sel == 1:\n",
    "    chg = m-600\n",
    "elif sel == 2:\n",
    "    chg = m-1000\n",
    "elif sel == 3:\n",
    "    chg = m-1300\n",
    "else :\n",
    "    print('다시 선택하세요')\n",
    "    chg=m\n",
    "\n",
    "if chg <0:\n",
    "    print('돈이 부족해요..T^T')\n",
    "else :\n",
    "    print('거스름돈 : {}원'.format(chg))\n",
    "    print('천원 : {}장'.format(chg//1000))\n",
    "    print('오백원 : {}장'.format(chg%1000//500))\n",
    "    print('백원 : {}장'.format(chg%500//100))"
   ]
  }
 ],
 "metadata": {
  "kernelspec": {
   "display_name": "Python 3",
   "language": "python",
   "name": "python3"
  },
  "language_info": {
   "codemirror_mode": {
    "name": "ipython",
    "version": 3
   },
   "file_extension": ".py",
   "mimetype": "text/x-python",
   "name": "python",
   "nbconvert_exporter": "python",
   "pygments_lexer": "ipython3",
   "version": "3.8.5"
  }
 },
 "nbformat": 4,
 "nbformat_minor": 4
}
