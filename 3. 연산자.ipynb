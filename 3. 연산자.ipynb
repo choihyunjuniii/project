{
 "cells": [
  {
   "cell_type": "code",
   "execution_count": 1,
   "metadata": {},
   "outputs": [
    {
     "name": "stdout",
     "output_type": "stream",
     "text": [
      "1.4285714285714286\n",
      "3\n",
      "1\n"
     ]
    }
   ],
   "source": [
    "num1=10\n",
    "num2=7\n",
    "#나눗셈\n",
    "print(num1/num2)\n",
    "#나머지\n",
    "print(num1%num2)\n",
    "#몫\n",
    "print(num1//num2)"
   ]
  },
  {
   "cell_type": "code",
   "execution_count": 2,
   "metadata": {},
   "outputs": [
    {
     "name": "stdout",
     "output_type": "stream",
     "text": [
      "안녕하세요\n"
     ]
    }
   ],
   "source": [
    "str1='안녕'\n",
    "str2='하세요'\n",
    "print(str1+str2)"
   ]
  },
  {
   "cell_type": "code",
   "execution_count": 3,
   "metadata": {},
   "outputs": [
    {
     "name": "stdout",
     "output_type": "stream",
     "text": [
      "102\n"
     ]
    }
   ],
   "source": [
    "str1='10'\n",
    "str2='2'\n",
    "print(str1+str2)"
   ]
  },
  {
   "cell_type": "code",
   "execution_count": 4,
   "metadata": {},
   "outputs": [
    {
     "ename": "TypeError",
     "evalue": "unsupported operand type(s) for +: 'int' and 'str'",
     "output_type": "error",
     "traceback": [
      "\u001b[1;31m---------------------------------------------------------------------------\u001b[0m",
      "\u001b[1;31mTypeError\u001b[0m                                 Traceback (most recent call last)",
      "\u001b[1;32m<ipython-input-4-5094d78317b1>\u001b[0m in \u001b[0;36m<module>\u001b[1;34m\u001b[0m\n\u001b[0;32m      1\u001b[0m \u001b[0mnum1\u001b[0m\u001b[1;33m=\u001b[0m\u001b[1;36m10\u001b[0m\u001b[1;33m\u001b[0m\u001b[1;33m\u001b[0m\u001b[0m\n\u001b[0;32m      2\u001b[0m \u001b[0mstr2\u001b[0m\u001b[1;33m=\u001b[0m\u001b[1;34m'7'\u001b[0m\u001b[1;33m\u001b[0m\u001b[1;33m\u001b[0m\u001b[0m\n\u001b[1;32m----> 3\u001b[1;33m \u001b[0mprint\u001b[0m\u001b[1;33m(\u001b[0m\u001b[0mnum1\u001b[0m\u001b[1;33m+\u001b[0m\u001b[0mstr2\u001b[0m\u001b[1;33m)\u001b[0m\u001b[1;33m\u001b[0m\u001b[1;33m\u001b[0m\u001b[0m\n\u001b[0m",
      "\u001b[1;31mTypeError\u001b[0m: unsupported operand type(s) for +: 'int' and 'str'"
     ]
    }
   ],
   "source": [
    "num1=10\n",
    "str2='7'\n",
    "print(num1+str2)"
   ]
  },
  {
   "cell_type": "code",
   "execution_count": 5,
   "metadata": {},
   "outputs": [
    {
     "ename": "TypeError",
     "evalue": "unsupported operand type(s) for +: 'int' and 'str'",
     "output_type": "error",
     "traceback": [
      "\u001b[1;31m---------------------------------------------------------------------------\u001b[0m",
      "\u001b[1;31mTypeError\u001b[0m                                 Traceback (most recent call last)",
      "\u001b[1;32m<ipython-input-5-255253855b9f>\u001b[0m in \u001b[0;36m<module>\u001b[1;34m\u001b[0m\n\u001b[0;32m      1\u001b[0m \u001b[0mnum1\u001b[0m\u001b[1;33m=\u001b[0m\u001b[1;36m10\u001b[0m\u001b[1;33m\u001b[0m\u001b[1;33m\u001b[0m\u001b[0m\n\u001b[0;32m      2\u001b[0m \u001b[0mstr2\u001b[0m\u001b[1;33m=\u001b[0m\u001b[1;34m'7'\u001b[0m\u001b[1;33m\u001b[0m\u001b[1;33m\u001b[0m\u001b[0m\n\u001b[1;32m----> 3\u001b[1;33m \u001b[0mnum1\u001b[0m\u001b[1;33m+\u001b[0m\u001b[0mstr2\u001b[0m\u001b[1;33m\u001b[0m\u001b[1;33m\u001b[0m\u001b[0m\n\u001b[0m",
      "\u001b[1;31mTypeError\u001b[0m: unsupported operand type(s) for +: 'int' and 'str'"
     ]
    }
   ],
   "source": [
    "num1=10\n",
    "str2='7'\n",
    "num1+str2\n",
    "#int와 str은 더할 수 없다.\n",
    "#더하려면 항 변환"
   ]
  },
  {
   "cell_type": "code",
   "execution_count": 6,
   "metadata": {},
   "outputs": [
    {
     "name": "stdout",
     "output_type": "stream",
     "text": [
      "7\n"
     ]
    }
   ],
   "source": [
    "num1=10\n",
    "str2='7'\n",
    "print(num1 and str2)"
   ]
  },
  {
   "cell_type": "code",
   "execution_count": 7,
   "metadata": {},
   "outputs": [
    {
     "name": "stdout",
     "output_type": "stream",
     "text": [
      "107\n",
      "17\n"
     ]
    }
   ],
   "source": [
    "num1=10\n",
    "str2='7'\n",
    "#문자열로 통일\n",
    "print(str(num1)+str2)\n",
    "#숫자로 통일\n",
    "print(num1+int(str2))"
   ]
  },
  {
   "cell_type": "code",
   "execution_count": 17,
   "metadata": {},
   "outputs": [
    {
     "name": "stdout",
     "output_type": "stream",
     "text": [
      "더하기 결과 :  26\n",
      "빼기 결과 : 20\n",
      "곱하기 결과 :  69\n",
      "나누기 결과 : 7.666666666666667\n",
      "나누기(몫) 결과 :  7\n",
      "나누기(나머지) 결과 :  2\n"
     ]
    }
   ],
   "source": [
    "num1=23\n",
    "num2=3\n",
    "print('더하기 결과 : ',num1+num2)\n",
    "print('빼기 결과 :',num1-num2)\n",
    "print('곱하기 결과 : ',num1*num2)\n",
    "print('나누기 결과 :',num1/num2)\n",
    "print('나누기(몫) 결과 : ',num1//num2)\n",
    "print('나누기(나머지) 결과 : ',num1%num2)"
   ]
  },
  {
   "cell_type": "code",
   "execution_count": 18,
   "metadata": {},
   "outputs": [
    {
     "name": "stdout",
     "output_type": "stream",
     "text": [
      "26\n",
      "20\n",
      "69\n",
      "7.666666666666667\n",
      "7\n",
      "2\n"
     ]
    }
   ],
   "source": [
    "num1=23\n",
    "num2=3\n",
    "print(num1+num2)\n",
    "print(num1-num2)\n",
    "print(num1*num2)\n",
    "print(num1/num2)\n",
    "print(num1//num2)\n",
    "print(num1%num2)"
   ]
  },
  {
   "cell_type": "code",
   "execution_count": 19,
   "metadata": {},
   "outputs": [
    {
     "name": "stdout",
     "output_type": "stream",
     "text": [
      "정수를 입력하세요>>133\n"
     ]
    }
   ],
   "source": [
    "num=input('정수를 입력하세요>>')"
   ]
  },
  {
   "cell_type": "markdown",
   "metadata": {},
   "source": [
    "num=input('정수를 입력하세요>>')"
   ]
  },
  {
   "cell_type": "code",
   "execution_count": 22,
   "metadata": {
    "scrolled": true
   },
   "outputs": [
    {
     "name": "stdout",
     "output_type": "stream",
     "text": [
      "정수를 입력하세요>>133\n"
     ]
    },
    {
     "data": {
      "text/plain": [
       "'133'"
      ]
     },
     "execution_count": 22,
     "metadata": {},
     "output_type": "execute_result"
    }
   ],
   "source": [
    "num=input('정수를 입력하세요>>')\n",
    "num"
   ]
  },
  {
   "cell_type": "code",
   "execution_count": null,
   "metadata": {},
   "outputs": [],
   "source": [
    "num"
   ]
  },
  {
   "cell_type": "code",
   "execution_count": 23,
   "metadata": {},
   "outputs": [
    {
     "data": {
      "text/plain": [
       "'133'"
      ]
     },
     "execution_count": 23,
     "metadata": {},
     "output_type": "execute_result"
    }
   ],
   "source": [
    "num"
   ]
  },
  {
   "cell_type": "code",
   "execution_count": 24,
   "metadata": {},
   "outputs": [
    {
     "name": "stdout",
     "output_type": "stream",
     "text": [
      "정수를 입력하세요>>541\n"
     ]
    }
   ],
   "source": [
    "num=input('정수를 입력하세요>>')"
   ]
  },
  {
   "cell_type": "code",
   "execution_count": 29,
   "metadata": {
    "scrolled": false
   },
   "outputs": [
    {
     "ename": "ValueError",
     "evalue": "invalid literal for int() with base 10: '운동'",
     "output_type": "error",
     "traceback": [
      "\u001b[1;31m---------------------------------------------------------------------------\u001b[0m",
      "\u001b[1;31mValueError\u001b[0m                                Traceback (most recent call last)",
      "\u001b[1;32m<ipython-input-29-2c3b6f62e9fb>\u001b[0m in \u001b[0;36m<module>\u001b[1;34m\u001b[0m\n\u001b[1;32m----> 1\u001b[1;33m \u001b[0mprint\u001b[0m\u001b[1;33m(\u001b[0m\u001b[0mint\u001b[0m\u001b[1;33m(\u001b[0m\u001b[0mnum\u001b[0m\u001b[1;33m)\u001b[0m\u001b[1;33m)\u001b[0m\u001b[1;33m\u001b[0m\u001b[1;33m\u001b[0m\u001b[0m\n\u001b[0m",
      "\u001b[1;31mValueError\u001b[0m: invalid literal for int() with base 10: '운동'"
     ]
    }
   ],
   "source": [
    "print(int(num))"
   ]
  },
  {
   "cell_type": "code",
   "execution_count": 26,
   "metadata": {},
   "outputs": [
    {
     "name": "stdout",
     "output_type": "stream",
     "text": [
      "정수를 입력하세여>>운동\n"
     ]
    }
   ],
   "source": [
    "num=input('정수를 입력하세여>>')"
   ]
  },
  {
   "cell_type": "code",
   "execution_count": 27,
   "metadata": {},
   "outputs": [
    {
     "data": {
      "text/plain": [
       "'운동'"
      ]
     },
     "execution_count": 27,
     "metadata": {},
     "output_type": "execute_result"
    }
   ],
   "source": [
    "num"
   ]
  },
  {
   "cell_type": "code",
   "execution_count": null,
   "metadata": {},
   "outputs": [],
   "source": [
    "#정수로 변환 print(int(num))\n",
    "#실수로 변환 print(float(num))"
   ]
  },
  {
   "cell_type": "markdown",
   "metadata": {},
   "source": []
  },
  {
   "cell_type": "code",
   "execution_count": 30,
   "metadata": {},
   "outputs": [
    {
     "name": "stdout",
     "output_type": "stream",
     "text": [
      "정수를 입력하세여>>65\n",
      "65\n"
     ]
    }
   ],
   "source": [
    "num=int(input('정수를 입력하세여>>'))\n",
    "print(num)"
   ]
  },
  {
   "cell_type": "code",
   "execution_count": 31,
   "metadata": {},
   "outputs": [
    {
     "data": {
      "text/plain": [
       "65"
      ]
     },
     "execution_count": 31,
     "metadata": {},
     "output_type": "execute_result"
    }
   ],
   "source": [
    "num"
   ]
  },
  {
   "cell_type": "code",
   "execution_count": 34,
   "metadata": {
    "scrolled": true
   },
   "outputs": [
    {
     "name": "stdout",
     "output_type": "stream",
     "text": [
      "정수를 입력하세요>>12\n",
      "정수를 입력하세요>>51\n",
      "더하기 결과 :  63\n",
      "빼기 결과 : -39\n",
      "곱하기 결과 :  612\n",
      "나누기 결과 : 0.23529411764705882\n",
      "나누기(몫) 결과 :  0\n",
      "나누기(나머지) 결과 :  12\n"
     ]
    }
   ],
   "source": [
    "num1=int(input('정수를 입력하세요>>'))\n",
    "num2=int(input('정수를 입력하세요>>'))\n",
    "\n",
    "print('더하기 결과 : ',num1+num2)\n",
    "print('빼기 결과 :',num1-num2)\n",
    "print('곱하기 결과 : ',num1*num2)\n",
    "print('나누기 결과 :',num1/num2)\n",
    "print('나누기(몫) 결과 : ',num1//num2)\n",
    "print('나누기(나머지) 결과 : ',num1%num2)"
   ]
  },
  {
   "cell_type": "code",
   "execution_count": 35,
   "metadata": {},
   "outputs": [
    {
     "name": "stdout",
     "output_type": "stream",
     "text": [
      "정수를 입력하세요>>86513\n",
      "정수를 입력하세요>>1253\n",
      "더하기 결과 :  87766\n",
      "빼기 결과 : 85260\n",
      "곱하기 결과 :  108400789\n",
      "나누기 결과 : 69.04469273743017\n",
      "나누기(몫) 결과 :  69\n",
      "나누기(나머지) 결과 :  56\n"
     ]
    }
   ],
   "source": [
    "num1=int(input('정수를 입력하세요>>'))\n",
    "num2=int(input('정수를 입력하세요>>'))\n",
    "\n",
    "print('더하기 결과 : ',num1+num2)\n",
    "print('빼기 결과 :',num1-num2)\n",
    "print('곱하기 결과 : ',num1*num2)\n",
    "print('나누기 결과 :',num1/num2)\n",
    "print('나누기(몫) 결과 : ',num1//num2)\n",
    "print('나누기(나머지) 결과 : ',num1%num2)"
   ]
  },
  {
   "cell_type": "code",
   "execution_count": null,
   "metadata": {},
   "outputs": [],
   "source": [
    "num1=int(input('python 점수 입력>>'))\n",
    "num1=int(input('머신러닝 점수 입력>>'))\n",
    "num1=int(input('딥러닝 점수 입력>>'))\n",
    "\n",
    "print('합계 : {}'.format(sum))\n",
    "print('평균 : {}'.format(ev))"
   ]
  },
  {
   "cell_type": "code",
   "execution_count": null,
   "metadata": {},
   "outputs": [],
   "source": [
    "num1=int(input('python 점수 입력>>'))\n",
    "num1=int(input('머신러닝 점수 입력>>'))\n",
    "num1=int(input('딥러닝 점수 입력>>'))\n",
    "\n",
    "print('합계 : {}'.format(num1+num2+num3))\n",
    "print('평균 : {}'.format(num1+num2+num3))"
   ]
  },
  {
   "cell_type": "code",
   "execution_count": null,
   "metadata": {},
   "outputs": [],
   "source": [
    "num1=int(input('python 점수 입력>>'))\n",
    "num1=int(input('머신러닝 점수 입력>>'))\n",
    "num1=int(input('딥러닝 점수 입력>>'))\n",
    "sum=num1+num2+num3\n",
    "ev=sum/3\n",
    "\n",
    "print('합계 : {}'.format(sum))\n",
    "print('평균 : {}'.format(ev))"
   ]
  },
  {
   "cell_type": "code",
   "execution_count": null,
   "metadata": {},
   "outputs": [],
   "source": [
    "num1=int(input('python 점수 입력>>'))\n",
    "num2=int(input('머신러닝 점수 입력>>'))\n",
    "num3=int(input('딥러닝 점수 입력>>'))\n",
    "\n",
    "sum=num1+num2+num3\n",
    "ev=sum/3\n",
    "\n",
    "print('합계 : {}'.format(sum))\n",
    "print('평균 : {}'.format(ev))"
   ]
  },
  {
   "cell_type": "code",
   "execution_count": null,
   "metadata": {},
   "outputs": [],
   "source": []
  },
  {
   "cell_type": "code",
   "execution_count": null,
   "metadata": {},
   "outputs": [],
   "source": []
  },
  {
   "cell_type": "code",
   "execution_count": null,
   "metadata": {},
   "outputs": [],
   "source": [
    "num1=int(input('python 점수 입력>>'))\n",
    "num2=int(input('머신러닝 점수 입력>>'))\n",
    "num3=int(input('딥러닝 점수 입력>>'))"
   ]
  },
  {
   "cell_type": "markdown",
   "metadata": {},
   "source": [
    "num1=int(input('python 점수 입력>>')\n",
    "num2=int(input('머신러닝 점수 입력>>')\n",
    "num3=int(input('딥러닝 점수 입력>>')"
   ]
  }
 ],
 "metadata": {
  "kernelspec": {
   "display_name": "Python 3",
   "language": "python",
   "name": "python3"
  },
  "language_info": {
   "codemirror_mode": {
    "name": "ipython",
    "version": 3
   },
   "file_extension": ".py",
   "mimetype": "text/x-python",
   "name": "python",
   "nbconvert_exporter": "python",
   "pygments_lexer": "ipython3",
   "version": "3.8.5"
  }
 },
 "nbformat": 4,
 "nbformat_minor": 4
}
