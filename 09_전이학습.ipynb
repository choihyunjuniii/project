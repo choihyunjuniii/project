{
 "cells": [
  {
   "cell_type": "markdown",
   "id": "d8dfe9d7",
   "metadata": {},
   "source": [
    "#### 데이터로딩"
   ]
  },
  {
   "cell_type": "code",
   "execution_count": 38,
   "id": "217f1e18",
   "metadata": {},
   "outputs": [],
   "source": [
    "import numpy as np\n"
   ]
  },
  {
   "cell_type": "code",
   "execution_count": 37,
   "id": "2f7cace8",
   "metadata": {},
   "outputs": [],
   "source": [
    "data = np.load(\"./data/cnn_data.npz\")"
   ]
  },
  {
   "cell_type": "code",
   "execution_count": 13,
   "id": "040abbd4",
   "metadata": {},
   "outputs": [],
   "source": [
    "X_train = data['X_train']\n",
    "y_train = data['y_train']\n",
    "X_test = data['X_test']\n",
    "y_test = data['y_test']"
   ]
  },
  {
   "cell_type": "code",
   "execution_count": 14,
   "id": "14c2d056",
   "metadata": {},
   "outputs": [
    {
     "data": {
      "text/plain": [
       "((478, 224, 224, 3), (478,))"
      ]
     },
     "execution_count": 14,
     "metadata": {},
     "output_type": "execute_result"
    }
   ],
   "source": [
    "X_train.shape, y_train.shape"
   ]
  },
  {
   "cell_type": "code",
   "execution_count": 15,
   "id": "a6b88608",
   "metadata": {},
   "outputs": [
    {
     "data": {
      "text/plain": [
       "((120, 224, 224, 3), (120,))"
      ]
     },
     "execution_count": 15,
     "metadata": {},
     "output_type": "execute_result"
    }
   ],
   "source": [
    "X_test.shape, y_test.shape"
   ]
  },
  {
   "cell_type": "markdown",
   "id": "30c09b20",
   "metadata": {},
   "source": [
    "#### VGG16모델 전이 학습"
   ]
  },
  {
   "cell_type": "code",
   "execution_count": 25,
   "id": "71eb6724",
   "metadata": {},
   "outputs": [],
   "source": [
    "from tensorflow.keras.applications import VGG16"
   ]
  },
  {
   "cell_type": "code",
   "execution_count": 26,
   "id": "4c0e20fb",
   "metadata": {},
   "outputs": [],
   "source": [
    "vgg16_model = VGG16(input_shape=(224,224,3),\n",
    "                   include_top=False,\n",
    "                   weights='imagenet')"
   ]
  },
  {
   "cell_type": "code",
   "execution_count": 27,
   "id": "7998266d",
   "metadata": {},
   "outputs": [
    {
     "name": "stdout",
     "output_type": "stream",
     "text": [
      "Model: \"vgg16\"\n",
      "_________________________________________________________________\n",
      "Layer (type)                 Output Shape              Param #   \n",
      "=================================================================\n",
      "input_3 (InputLayer)         [(None, 224, 224, 3)]     0         \n",
      "_________________________________________________________________\n",
      "block1_conv1 (Conv2D)        (None, 224, 224, 64)      1792      \n",
      "_________________________________________________________________\n",
      "block1_conv2 (Conv2D)        (None, 224, 224, 64)      36928     \n",
      "_________________________________________________________________\n",
      "block1_pool (MaxPooling2D)   (None, 112, 112, 64)      0         \n",
      "_________________________________________________________________\n",
      "block2_conv1 (Conv2D)        (None, 112, 112, 128)     73856     \n",
      "_________________________________________________________________\n",
      "block2_conv2 (Conv2D)        (None, 112, 112, 128)     147584    \n",
      "_________________________________________________________________\n",
      "block2_pool (MaxPooling2D)   (None, 56, 56, 128)       0         \n",
      "_________________________________________________________________\n",
      "block3_conv1 (Conv2D)        (None, 56, 56, 256)       295168    \n",
      "_________________________________________________________________\n",
      "block3_conv2 (Conv2D)        (None, 56, 56, 256)       590080    \n",
      "_________________________________________________________________\n",
      "block3_conv3 (Conv2D)        (None, 56, 56, 256)       590080    \n",
      "_________________________________________________________________\n",
      "block3_pool (MaxPooling2D)   (None, 28, 28, 256)       0         \n",
      "_________________________________________________________________\n",
      "block4_conv1 (Conv2D)        (None, 28, 28, 512)       1180160   \n",
      "_________________________________________________________________\n",
      "block4_conv2 (Conv2D)        (None, 28, 28, 512)       2359808   \n",
      "_________________________________________________________________\n",
      "block4_conv3 (Conv2D)        (None, 28, 28, 512)       2359808   \n",
      "_________________________________________________________________\n",
      "block4_pool (MaxPooling2D)   (None, 14, 14, 512)       0         \n",
      "_________________________________________________________________\n",
      "block5_conv1 (Conv2D)        (None, 14, 14, 512)       2359808   \n",
      "_________________________________________________________________\n",
      "block5_conv2 (Conv2D)        (None, 14, 14, 512)       2359808   \n",
      "_________________________________________________________________\n",
      "block5_conv3 (Conv2D)        (None, 14, 14, 512)       2359808   \n",
      "_________________________________________________________________\n",
      "block5_pool (MaxPooling2D)   (None, 7, 7, 512)         0         \n",
      "=================================================================\n",
      "Total params: 14,714,688\n",
      "Trainable params: 14,714,688\n",
      "Non-trainable params: 0\n",
      "_________________________________________________________________\n"
     ]
    }
   ],
   "source": [
    "vgg16_model.summary()"
   ]
  },
  {
   "cell_type": "code",
   "execution_count": 28,
   "id": "2d2535d3",
   "metadata": {},
   "outputs": [],
   "source": [
    "from tensorflow.keras.models import Sequential\n",
    "from tensorflow.keras.layers import Dense, Flatten\n"
   ]
  },
  {
   "cell_type": "code",
   "execution_count": 29,
   "id": "30b0001c",
   "metadata": {},
   "outputs": [],
   "source": [
    "#vgg16_model.trainable = False"
   ]
  },
  {
   "cell_type": "code",
   "execution_count": 30,
   "id": "48be62bd",
   "metadata": {},
   "outputs": [],
   "source": [
    "for layer in vgg16_model.layers :\n",
    "    if layer.name == 'block5_conv3' :\n",
    "        layer.trainable=True\n",
    "    else :\n",
    "        layer.trainable=False\n",
    "        "
   ]
  },
  {
   "cell_type": "code",
   "execution_count": 31,
   "id": "8b6d6daa",
   "metadata": {},
   "outputs": [],
   "source": [
    "transfer_model = Sequential()\n",
    "transfer_model.add(vgg16_model)\n",
    "transfer_model.add(Flatten())\n",
    "transfer_model.add(Dense(256,activation='relu'))\n",
    "transfer_model.add(Dense(3,activation='softmax'))"
   ]
  },
  {
   "cell_type": "code",
   "execution_count": 32,
   "id": "6c97153c",
   "metadata": {},
   "outputs": [
    {
     "name": "stdout",
     "output_type": "stream",
     "text": [
      "Model: \"sequential_5\"\n",
      "_________________________________________________________________\n",
      "Layer (type)                 Output Shape              Param #   \n",
      "=================================================================\n",
      "vgg16 (Model)                (None, 7, 7, 512)         14714688  \n",
      "_________________________________________________________________\n",
      "flatten_1 (Flatten)          (None, 25088)             0         \n",
      "_________________________________________________________________\n",
      "dense_2 (Dense)              (None, 256)               6422784   \n",
      "_________________________________________________________________\n",
      "dense_3 (Dense)              (None, 3)                 771       \n",
      "=================================================================\n",
      "Total params: 21,138,243\n",
      "Trainable params: 8,783,363\n",
      "Non-trainable params: 12,354,880\n",
      "_________________________________________________________________\n"
     ]
    }
   ],
   "source": [
    "transfer_model.summary()"
   ]
  },
  {
   "cell_type": "code",
   "execution_count": 33,
   "id": "9c7d646d",
   "metadata": {},
   "outputs": [
    {
     "name": "stdout",
     "output_type": "stream",
     "text": [
      "ERROR! Session/line number was not unique in database. History logging moved to new session 440\n"
     ]
    }
   ],
   "source": [
    "transfer_model.compile(loss=\"sparse_categorical_crossentropy\",\n",
    "                      optimizer=\"Adam\",\n",
    "                      metrics=['accuracy'])"
   ]
  },
  {
   "cell_type": "code",
   "execution_count": 35,
   "id": "d23f7112",
   "metadata": {
    "scrolled": true
   },
   "outputs": [
    {
     "name": "stdout",
     "output_type": "stream",
     "text": [
      "Train on 382 samples, validate on 96 samples\n",
      "Epoch 1/15\n",
      "382/382 [==============================] - 2s 4ms/sample - loss: 0.0076 - accuracy: 0.9974 - val_loss: 1.3430 - val_accuracy: 0.8021\n",
      "Epoch 2/15\n",
      "382/382 [==============================] - 1s 4ms/sample - loss: 0.0077 - accuracy: 0.9974 - val_loss: 1.4249 - val_accuracy: 0.7812\n",
      "Epoch 3/15\n",
      "382/382 [==============================] - 2s 4ms/sample - loss: 0.0052 - accuracy: 0.9974 - val_loss: 1.4600 - val_accuracy: 0.7917\n",
      "Epoch 4/15\n",
      "382/382 [==============================] - 2s 4ms/sample - loss: 0.0050 - accuracy: 0.9948 - val_loss: 1.4792 - val_accuracy: 0.7917\n",
      "Epoch 5/15\n",
      "382/382 [==============================] - 2s 4ms/sample - loss: 0.0072 - accuracy: 0.9948 - val_loss: 1.5068 - val_accuracy: 0.7917\n",
      "Epoch 6/15\n",
      "382/382 [==============================] - 2s 4ms/sample - loss: 0.0039 - accuracy: 0.9974 - val_loss: 1.5328 - val_accuracy: 0.7917\n",
      "Epoch 7/15\n",
      "382/382 [==============================] - 2s 4ms/sample - loss: 0.0037 - accuracy: 0.9974 - val_loss: 1.5575 - val_accuracy: 0.7812\n",
      "Epoch 8/15\n",
      "382/382 [==============================] - 2s 4ms/sample - loss: 0.0039 - accuracy: 0.9974 - val_loss: 1.5839 - val_accuracy: 0.7812\n",
      "Epoch 9/15\n",
      "382/382 [==============================] - 2s 4ms/sample - loss: 0.0036 - accuracy: 0.9974 - val_loss: 1.6120 - val_accuracy: 0.7812\n",
      "Epoch 10/15\n",
      "382/382 [==============================] - 2s 4ms/sample - loss: 0.0043 - accuracy: 0.9974 - val_loss: 1.6608 - val_accuracy: 0.7812\n",
      "Epoch 11/15\n",
      "382/382 [==============================] - 2s 4ms/sample - loss: 0.0034 - accuracy: 0.9974 - val_loss: 1.6751 - val_accuracy: 0.7812\n",
      "Epoch 12/15\n",
      "382/382 [==============================] - 2s 4ms/sample - loss: 0.0038 - accuracy: 0.9974 - val_loss: 1.6704 - val_accuracy: 0.7812\n",
      "Epoch 13/15\n",
      "382/382 [==============================] - 2s 4ms/sample - loss: 0.0034 - accuracy: 0.9974 - val_loss: 1.6991 - val_accuracy: 0.7812\n",
      "Epoch 14/15\n",
      "382/382 [==============================] - 1s 4ms/sample - loss: 0.0030 - accuracy: 1.0000 - val_loss: 1.7354 - val_accuracy: 0.7708\n",
      "Epoch 15/15\n",
      "382/382 [==============================] - 1s 4ms/sample - loss: 0.0036 - accuracy: 0.9974 - val_loss: 1.7815 - val_accuracy: 0.7604\n"
     ]
    },
    {
     "data": {
      "text/plain": [
       "<tensorflow.python.keras.callbacks.History at 0x2a492432278>"
      ]
     },
     "execution_count": 35,
     "metadata": {},
     "output_type": "execute_result"
    }
   ],
   "source": [
    "transfer_model.fit(X_train,y_train,\n",
    "                  validation_split=0.2,\n",
    "                  epochs=15)"
   ]
  },
  {
   "cell_type": "code",
   "execution_count": 36,
   "id": "60c435fd",
   "metadata": {},
   "outputs": [
    {
     "name": "stdout",
     "output_type": "stream",
     "text": [
      "120/120 [==============================] - 2s 16ms/sample - loss: 1.5783 - accuracy: 0.7500\n"
     ]
    },
    {
     "data": {
      "text/plain": [
       "[1.5782870610555013, 0.75]"
      ]
     },
     "execution_count": 36,
     "metadata": {},
     "output_type": "execute_result"
    }
   ],
   "source": [
    "transfer_model.evaluate(X_test,y_test)"
   ]
  },
  {
   "cell_type": "code",
   "execution_count": null,
   "id": "2178c453",
   "metadata": {},
   "outputs": [],
   "source": []
  }
 ],
 "metadata": {
  "kernelspec": {
   "display_name": "Python 3",
   "language": "python",
   "name": "python3"
  },
  "language_info": {
   "codemirror_mode": {
    "name": "ipython",
    "version": 3
   },
   "file_extension": ".py",
   "mimetype": "text/x-python",
   "name": "python",
   "nbconvert_exporter": "python",
   "pygments_lexer": "ipython3",
   "version": "3.6.13"
  }
 },
 "nbformat": 4,
 "nbformat_minor": 5
}
