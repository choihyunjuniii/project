{
 "cells": [
  {
   "cell_type": "code",
   "execution_count": 5,
   "metadata": {},
   "outputs": [],
   "source": [
    "#함수 이름 만들기\n",
    "#여기서는 두수를 더하는 함수\n",
    "def add(num1, num2):  #여기까지가 함수 이름짓기\n",
    "    result=num1+num2  #함수 동작시 실행할 문장\n",
    "    return result #함수를 시랭할시 출력할 결과"
   ]
  },
  {
   "cell_type": "code",
   "execution_count": 6,
   "metadata": {},
   "outputs": [
    {
     "data": {
      "text/plain": [
       "8"
      ]
     },
     "execution_count": 6,
     "metadata": {},
     "output_type": "execute_result"
    }
   ],
   "source": [
    "add(3,5)"
   ]
  },
  {
   "cell_type": "code",
   "execution_count": 9,
   "metadata": {},
   "outputs": [],
   "source": [
    "#두수를 뺴는 함수\n",
    "def minus(num3,num4):\n",
    "    result=num3-num4\n",
    "    return result"
   ]
  },
  {
   "cell_type": "code",
   "execution_count": 10,
   "metadata": {},
   "outputs": [
    {
     "data": {
      "text/plain": [
       "2"
      ]
     },
     "execution_count": 10,
     "metadata": {},
     "output_type": "execute_result"
    }
   ],
   "source": [
    "minus(4,2)"
   ]
  },
  {
   "cell_type": "code",
   "execution_count": 11,
   "metadata": {},
   "outputs": [
    {
     "data": {
      "text/plain": [
       "-4"
      ]
     },
     "execution_count": 11,
     "metadata": {},
     "output_type": "execute_result"
    }
   ],
   "source": [
    "minus(1,5)"
   ]
  },
  {
   "cell_type": "code",
   "execution_count": 19,
   "metadata": {},
   "outputs": [],
   "source": [
    "#두수의 차\n",
    "def minus2(num1,num2):\n",
    "    if num1>num2: #어떤수가 큰수인지 찾는것\n",
    "        result=num1-num2\n",
    "    else :\n",
    "        result=num2-num1\n",
    "    return result"
   ]
  },
  {
   "cell_type": "code",
   "execution_count": 20,
   "metadata": {},
   "outputs": [
    {
     "data": {
      "text/plain": [
       "3"
      ]
     },
     "execution_count": 20,
     "metadata": {},
     "output_type": "execute_result"
    }
   ],
   "source": [
    "minus2(6,9)"
   ]
  },
  {
   "cell_type": "code",
   "execution_count": 21,
   "metadata": {},
   "outputs": [],
   "source": [
    "def minus2(num1, num2):\n",
    "    if num1>num2:\n",
    "        result=num1-num2 #이거아니면 아래꺼\n",
    "    else:\n",
    "        return num2-num1 #둘중 하나실행"
   ]
  },
  {
   "cell_type": "code",
   "execution_count": 23,
   "metadata": {},
   "outputs": [
    {
     "name": "stdout",
     "output_type": "stream",
     "text": [
      "1\n",
      "73\n"
     ]
    }
   ],
   "source": [
    "print(minus2(4,5))\n",
    "print(minus2(5,78))"
   ]
  },
  {
   "cell_type": "code",
   "execution_count": 24,
   "metadata": {},
   "outputs": [],
   "source": [
    "#약수 출력\n",
    "#굳이 result말고 print도 가능\n",
    "def divisor(num1):\n",
    "    for i in (1,num1+1): #range 안쓰면 범위값이 아니라 그냥 숫자값인것이다.\n",
    "        if num1%i==0:\n",
    "            print(i, end=' ')"
   ]
  },
  {
   "cell_type": "code",
   "execution_count": 25,
   "metadata": {
    "scrolled": true
   },
   "outputs": [
    {
     "name": "stdout",
     "output_type": "stream",
     "text": [
      "1 "
     ]
    }
   ],
   "source": [
    "divisor(64)"
   ]
  },
  {
   "cell_type": "code",
   "execution_count": 26,
   "metadata": {},
   "outputs": [],
   "source": [
    "def divisor2(num1):\n",
    "    for i in range(1,num1+1):\n",
    "        if num1%i==0:\n",
    "            print(i, end=' ')"
   ]
  },
  {
   "cell_type": "code",
   "execution_count": 27,
   "metadata": {},
   "outputs": [
    {
     "name": "stdout",
     "output_type": "stream",
     "text": [
      "1 5 25 125 "
     ]
    }
   ],
   "source": [
    "divisor2(125)"
   ]
  },
  {
   "cell_type": "code",
   "execution_count": 31,
   "metadata": {},
   "outputs": [],
   "source": [
    "# +와-가 되는 계산기 만들기\n",
    "#두숫자와 기호를 입력\n",
    "def cal(num1,num2):\n",
    "    if num1+num2:\n",
    "        result=num1+num2\n",
    "    elif num1-num2:\n",
    "        result=num1-num2\n",
    "    elif num2-num1:\n",
    "        result=num2-num1 #실패"
   ]
  },
  {
   "cell_type": "code",
   "execution_count": 32,
   "metadata": {},
   "outputs": [],
   "source": [
    "cal(1,4)"
   ]
  },
  {
   "cell_type": "code",
   "execution_count": 37,
   "metadata": {},
   "outputs": [],
   "source": [
    "def cal(num1,num2,obj):\n",
    "    return num1+num2 if obj=='+' else num1-num2"
   ]
  },
  {
   "cell_type": "code",
   "execution_count": 40,
   "metadata": {},
   "outputs": [
    {
     "data": {
      "text/plain": [
       "2"
      ]
     },
     "execution_count": 40,
     "metadata": {},
     "output_type": "execute_result"
    }
   ],
   "source": [
    "cal(4,2,'-')"
   ]
  },
  {
   "cell_type": "code",
   "execution_count": null,
   "metadata": {},
   "outputs": [],
   "source": []
  },
  {
   "cell_type": "code",
   "execution_count": 34,
   "metadata": {},
   "outputs": [],
   "source": [
    "def cal2(): #함수 안에서 변수 를 입력받기 때문에 입력변수가 필요없음\n",
    "    num1=int(input('첫번쨰 수 입력>>'))\n",
    "    obj=input('+,-중하나 입력>>')\n",
    "    num2=int(input('두번쨰 수 입력>>'))\n",
    "    if obj =='+':\n",
    "        return num1+num2\n",
    "    elif obj=='-':\n",
    "        return num1-num2"
   ]
  },
  {
   "cell_type": "code",
   "execution_count": 35,
   "metadata": {},
   "outputs": [
    {
     "name": "stdout",
     "output_type": "stream",
     "text": [
      "첫번쨰 수 입력>>4\n",
      "+,-중하나 입력>>-\n",
      "두번쨰 수 입력>>4\n"
     ]
    },
    {
     "data": {
      "text/plain": [
       "0"
      ]
     },
     "execution_count": 35,
     "metadata": {},
     "output_type": "execute_result"
    }
   ],
   "source": [
    "cal2()"
   ]
  }
 ],
 "metadata": {
  "kernelspec": {
   "display_name": "Python 3",
   "language": "python",
   "name": "python3"
  },
  "language_info": {
   "codemirror_mode": {
    "name": "ipython",
    "version": 3
   },
   "file_extension": ".py",
   "mimetype": "text/x-python",
   "name": "python",
   "nbconvert_exporter": "python",
   "pygments_lexer": "ipython3",
   "version": "3.8.5"
  }
 },
 "nbformat": 4,
 "nbformat_minor": 4
}
