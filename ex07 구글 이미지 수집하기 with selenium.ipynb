{
 "cells": [
  {
   "cell_type": "code",
   "execution_count": 15,
   "metadata": {},
   "outputs": [
    {
     "name": "stdout",
     "output_type": "stream",
     "text": [
      "Requirement already satisfied: selenium in c:\\users\\sm2139\\anaconda3\\lib\\site-packages (3.141.0)\n",
      "Requirement already satisfied: urllib3 in c:\\users\\sm2139\\anaconda3\\lib\\site-packages (from selenium) (1.25.11)\n"
     ]
    }
   ],
   "source": [
    "!pip install selenium"
   ]
  },
  {
   "cell_type": "code",
   "execution_count": 16,
   "metadata": {},
   "outputs": [
    {
     "name": "stdout",
     "output_type": "stream",
     "text": [
      "Requirement already satisfied: bs4 in c:\\users\\sm2139\\anaconda3\\lib\\site-packages (0.0.1)\n",
      "Requirement already satisfied: beautifulsoup4 in c:\\users\\sm2139\\anaconda3\\lib\\site-packages (from bs4) (4.6.0)\n"
     ]
    }
   ],
   "source": [
    "!pip install bs4"
   ]
  },
  {
   "cell_type": "code",
   "execution_count": 17,
   "metadata": {},
   "outputs": [
    {
     "name": "stdout",
     "output_type": "stream",
     "text": [
      "Requirement already satisfied: tqdm in c:\\users\\sm2139\\anaconda3\\lib\\site-packages (4.50.2)\n"
     ]
    }
   ],
   "source": [
    "!pip install tqdm"
   ]
  },
  {
   "cell_type": "code",
   "execution_count": 18,
   "metadata": {},
   "outputs": [],
   "source": [
    "from selenium import webdriver as wb # 브라우저를 조작하는 도구\n",
    "from selenium.webdriver.common.keys import Keys # 키 입력을 도와주는 도구(키보드)\n",
    "from bs4 import BeautifulSoup as bs # 문서를 파싱해서 선택자 활용을 도와주는 도구\n",
    "from tqdm import tqdm # 반복문 진행 정도를 시각화해주는 도구\n",
    "from urllib.request import urlretrieve # 이미지 다운로드를 도와주는 도구\n",
    "import time # 시간제어 도구\n",
    "import os # 폴더 생성,삭제,이동 등을 도와주는 도구"
   ]
  },
  {
   "cell_type": "code",
   "execution_count": 29,
   "metadata": {},
   "outputs": [],
   "source": [
    "# 이미지가 저장될 폴더 생성\n",
    "# 해당 폴더가 있는지 확인\n",
    "if os.path.isdir('./google_img/호저') == False :\n",
    "    os.mkdir(\"./google_img/호저\") # 폴더 생성"
   ]
  },
  {
   "cell_type": "code",
   "execution_count": 30,
   "metadata": {},
   "outputs": [
    {
     "name": "stderr",
     "output_type": "stream",
     "text": [
      "100%|██████████| 48/48 [00:04<00:00,  9.71it/s] \n",
      "100%|██████████| 52/52 [00:09<00:00,  5.43it/s]\n",
      "100%|██████████| 98/98 [00:17<00:00,  5.72it/s]\n"
     ]
    }
   ],
   "source": [
    "keyword = \"호저\"\n",
    "url = 'https://www.google.com/search?q={}&source=lnms&tbm=isch&sa=X&ved=2ahUKEwjs85-GsN7vAhX4xYsBHR6aBg0Q_AUoAXoECAEQAw&biw=1745&bih=852'.format(keyword)\n",
    "\n",
    "driver = wb.Chrome() # 브라우져 생성\n",
    "driver.get(url) # url 요청\n",
    "time.sleep(5) # 페이지 로딩까지 5초 대기\n",
    "\n",
    "cnt = 0\n",
    "pre_img_src = [] # 이전에 다운로드된 경로\n",
    "\n",
    "for j in range(3) :\n",
    "    img_html = bs(driver.page_source,'html.parser')\n",
    "\n",
    "    # 이미지 태그 수집\n",
    "    images = img_html.select('img.rg_i.Q4LuWd')\n",
    "\n",
    "    # 이미지 태그의 src 속성 값 추출\n",
    "    img_src = []\n",
    "    for img in images :\n",
    "        src = img.get('src')\n",
    "        if src != None : # img 태그에 src 속성이 없는 경우\n",
    "            if src not in pre_img_src : # 이전에 다운로드한 경로에 있는지 검사\n",
    "                img_src.append(src)\n",
    "        else : # img 태그에 src 속성이 있는 경우\n",
    "            src = img.get('data-src')\n",
    "            if src not in pre_img_src :\n",
    "                img_src.append(src)\n",
    "\n",
    "    # 파일 다운로드\n",
    "    # img_src를 반복문으로 돌면서 저장, tqdm 사용\n",
    "    for src in tqdm(img_src) :\n",
    "        cnt += 1\n",
    "        urlretrieve(src,'./google_img/호저/{}.png'.format(cnt))\n",
    "\n",
    "    pre_img_src += img_src # 다운로드한 경로를 이전 리스트에 추가    \n",
    "        \n",
    "    # 화면 스크롤\n",
    "    for i in range(6):\n",
    "        driver.find_element_by_css_selector('body').send_keys(Keys.PAGE_DOWN)\n",
    "        time.sleep(1)"
   ]
  },
  {
   "cell_type": "code",
   "execution_count": 31,
   "metadata": {},
   "outputs": [
    {
     "data": {
      "text/plain": [
       "['https://encrypted-tbn0.gstatic.com/images?q=tbn:ANd9GcTahvymfzx7PEs5SAYUdOMibc5UeRo_01lxXA&usqp=CAU',\n",
       " 'https://encrypted-tbn0.gstatic.com/images?q=tbn:ANd9GcRIQvYPMBnzoSdPDwq0_v2pdficGQsUdxxCjA&usqp=CAU',\n",
       " 'https://encrypted-tbn0.gstatic.com/images?q=tbn:ANd9GcTIxzF-AUVNO2UOeqG4ZcF6wy0wkdqUGQ9iiA&usqp=CAU',\n",
       " 'https://encrypted-tbn0.gstatic.com/images?q=tbn:ANd9GcRUBe8QRWNK29PxFHg1P8iZJOR688AFufCjoA&usqp=CAU',\n",
       " 'https://encrypted-tbn0.gstatic.com/images?q=tbn:ANd9GcTomMlVWFSIhEzgBKSnxqKEnrhg9qKGU9FQGA&usqp=CAU',\n",
       " 'https://encrypted-tbn0.gstatic.com/images?q=tbn:ANd9GcRAYmUe26qnv6Ikix5BGeVGPZkQohTGZyePhQ&usqp=CAU',\n",
       " 'https://encrypted-tbn0.gstatic.com/images?q=tbn:ANd9GcTO9u3Nmc5rQQKNNLR-CCWownXo_mrbBGKnUw&usqp=CAU',\n",
       " 'https://encrypted-tbn0.gstatic.com/images?q=tbn:ANd9GcSg-CL0jDBMlXanlX_HX4zV5sz42KZ32atnvQ&usqp=CAU',\n",
       " 'https://encrypted-tbn0.gstatic.com/images?q=tbn:ANd9GcTA2LJyaU1umhBmxaTKyxRx54jnNxDGAR-1Zw&usqp=CAU',\n",
       " 'https://encrypted-tbn0.gstatic.com/images?q=tbn:ANd9GcQCeg8LvnJlGcXW3JJnxIO3gMntjg7j_8q8Gw&usqp=CAU',\n",
       " 'https://encrypted-tbn0.gstatic.com/images?q=tbn:ANd9GcQpmOLTGI8g0UcVk4yOtZe8DZMWK04Nr8vgaQ&usqp=CAU',\n",
       " 'https://encrypted-tbn0.gstatic.com/images?q=tbn:ANd9GcRR9CHy3Msg2MhPYeExO7R_73hmHw7yqsRH_Q&usqp=CAU',\n",
       " 'https://encrypted-tbn0.gstatic.com/images?q=tbn:ANd9GcQpjWppe5JE3TZzkQ5RpLGB-qeyRkFoJzcKiQ&usqp=CAU',\n",
       " 'https://encrypted-tbn0.gstatic.com/images?q=tbn:ANd9GcSB4T4ZmBOhzZrFxi6IVl_okEl8qN1EoDj9UQ&usqp=CAU',\n",
       " 'https://encrypted-tbn0.gstatic.com/images?q=tbn:ANd9GcTnw1PaSnYY8DYnrWCNtv1xYrZq3uDMpRsgFQ&usqp=CAU',\n",
       " 'https://encrypted-tbn0.gstatic.com/images?q=tbn:ANd9GcQF5BlUu9Y2GcJ5hFlIxCIFr4h-PylX-z5x_A&usqp=CAU',\n",
       " 'https://encrypted-tbn0.gstatic.com/images?q=tbn:ANd9GcQKETc7YPBuYWd8GKj5_vPxd48xkAX3vXn6xg&usqp=CAU',\n",
       " 'https://encrypted-tbn0.gstatic.com/images?q=tbn:ANd9GcT-rGKpVGnScyHbmnpemjEA-0M4vAGt2HIC9w&usqp=CAU',\n",
       " 'https://encrypted-tbn0.gstatic.com/images?q=tbn:ANd9GcThbKr-TBynfJ6MglJZfiJdrwPTaSKsbcvlwg&usqp=CAU',\n",
       " 'https://encrypted-tbn0.gstatic.com/images?q=tbn:ANd9GcRknpaofM9o4TkKST_rgUKmWlKHoIlQMcUctA&usqp=CAU',\n",
       " 'https://encrypted-tbn0.gstatic.com/images?q=tbn:ANd9GcSBUcluxYQ0Z-B8QJj-RgbGCe4yMkBGkfx5VA&usqp=CAU',\n",
       " 'https://encrypted-tbn0.gstatic.com/images?q=tbn:ANd9GcQ02noE6COhw-NFEsVxFMf9ii4vZIP-QvAc_Q&usqp=CAU',\n",
       " 'https://encrypted-tbn0.gstatic.com/images?q=tbn:ANd9GcQR65sG13df1zXb5m-p4MGhq7b6xERptTPkdA&usqp=CAU',\n",
       " 'https://encrypted-tbn0.gstatic.com/images?q=tbn:ANd9GcT-ScbhtXogwM5wM5K1GjMOV56gMaZB2y_vTQ&usqp=CAU',\n",
       " 'https://encrypted-tbn0.gstatic.com/images?q=tbn:ANd9GcRQbJHyI7RSwEVx3cwuqhODiS6pTFCn3gZfaw&usqp=CAU',\n",
       " 'https://encrypted-tbn0.gstatic.com/images?q=tbn:ANd9GcQa777K9eUWf_QFPrkM1W0jLMjkeEfxQ5oH6w&usqp=CAU',\n",
       " 'https://encrypted-tbn0.gstatic.com/images?q=tbn:ANd9GcQF-2rMRMLDIlPHSwJsCRKsDVSroMWoJYOwvg&usqp=CAU',\n",
       " 'https://encrypted-tbn0.gstatic.com/images?q=tbn:ANd9GcT90GDzxc0nehMZueroyNwmnR1UjA_-c2ZCrA&usqp=CAU',\n",
       " 'https://encrypted-tbn0.gstatic.com/images?q=tbn:ANd9GcQwjvvZPNRi53dy8aVKU6WTMNefHaFLflAzug&usqp=CAU',\n",
       " 'https://encrypted-tbn0.gstatic.com/images?q=tbn:ANd9GcTS_1RbYyEFdkxrdlHWQHhH7b-C3-ywDdq_3Q&usqp=CAU',\n",
       " 'https://encrypted-tbn0.gstatic.com/images?q=tbn:ANd9GcRtB1M3JhxFo6gcVObw7P1dxt2-m3G-V6ZDVQ&usqp=CAU',\n",
       " 'https://encrypted-tbn0.gstatic.com/images?q=tbn:ANd9GcQc30ybc2vJ70P6_R4aWFUIgwaUCR6jiw4YFg&usqp=CAU',\n",
       " 'https://encrypted-tbn0.gstatic.com/images?q=tbn:ANd9GcTp6KgWvZIonFNgK3tAbFoHhLMKHmr5OEi7-w&usqp=CAU',\n",
       " 'https://encrypted-tbn0.gstatic.com/images?q=tbn:ANd9GcSPy1qxawOzaZnM2QrTBzJ07XsOQiOj_uO90w&usqp=CAU',\n",
       " 'https://encrypted-tbn0.gstatic.com/images?q=tbn:ANd9GcRgHqAe6dUOr2q0hxm5D8xiYIKyhJ_hYZY_ww&usqp=CAU',\n",
       " 'https://encrypted-tbn0.gstatic.com/images?q=tbn:ANd9GcTJjeTe-DgWKWfzdy5VfBFTdDbprOgSds-hPg&usqp=CAU',\n",
       " 'https://encrypted-tbn0.gstatic.com/images?q=tbn:ANd9GcRhV5bRf4fyy75-JtnDDsd0l-nzewps-2PY1g&usqp=CAU',\n",
       " 'https://encrypted-tbn0.gstatic.com/images?q=tbn:ANd9GcTyFn-TpMT0AvNGQlqaeIWV5QV-IrxNejQvHQ&usqp=CAU',\n",
       " 'https://encrypted-tbn0.gstatic.com/images?q=tbn:ANd9GcSh69kxUtxT_SBZKbeQtcFx1fGXjNpfJ1O_1Q&usqp=CAU',\n",
       " 'https://encrypted-tbn0.gstatic.com/images?q=tbn:ANd9GcRkDHypjEpYW9ZfV491XTRIoKT-H7rsBTJvrg&usqp=CAU',\n",
       " 'https://encrypted-tbn0.gstatic.com/images?q=tbn:ANd9GcT3SrD3DSCE1IjZx-WmHY9yN1l78Nm6zD6O9w&usqp=CAU',\n",
       " 'https://encrypted-tbn0.gstatic.com/images?q=tbn:ANd9GcTl_1Y9qnp0Msy8Mh3ctwR_CkvurbsSx2uqvw&usqp=CAU',\n",
       " 'https://encrypted-tbn0.gstatic.com/images?q=tbn:ANd9GcRZpobSVvDw2SencnVvdnLj2VQ5gsqTcaryMQ&usqp=CAU',\n",
       " 'https://encrypted-tbn0.gstatic.com/images?q=tbn:ANd9GcSaljheSXML2ZXd6w-AkPIQ0a4uy4InlbLFZA&usqp=CAU',\n",
       " 'https://encrypted-tbn0.gstatic.com/images?q=tbn:ANd9GcQV2J_4-PALaueQgPf4mqi-7rTTCZzCe8_Jpg&usqp=CAU',\n",
       " 'https://encrypted-tbn0.gstatic.com/images?q=tbn:ANd9GcSUjoZ67NbSYJVqq0lN3waz4v5iiVgwYxywzQ&usqp=CAU',\n",
       " 'https://encrypted-tbn0.gstatic.com/images?q=tbn:ANd9GcSwhy-LnNnBJNljZsgdYKkZYFQFJBdKIbkCeA&usqp=CAU',\n",
       " 'https://encrypted-tbn0.gstatic.com/images?q=tbn:ANd9GcQUaEz8kkpRp8kD64CSwJsng7fgdfkxROPX7w&usqp=CAU',\n",
       " 'https://encrypted-tbn0.gstatic.com/images?q=tbn:ANd9GcQR2EjIxVZh9oPCUuLE3pQdj9bk581iT9a0Bg&usqp=CAU',\n",
       " 'https://encrypted-tbn0.gstatic.com/images?q=tbn:ANd9GcQbhKxA8PfEOTFa3rgY78QvjnnT-SIP6YHEXQ&usqp=CAU',\n",
       " 'https://encrypted-tbn0.gstatic.com/images?q=tbn:ANd9GcQGZ5t59K_EeK9NE4YIHwZ4bEux4PJGIc_Qvw&usqp=CAU',\n",
       " 'https://encrypted-tbn0.gstatic.com/images?q=tbn:ANd9GcSVf5ysGBZajSHFk1KucBDn6llOCoYXuO8M8w&usqp=CAU',\n",
       " 'https://encrypted-tbn0.gstatic.com/images?q=tbn:ANd9GcQHFZR-WjUw9YYGhfgexWhbn5r1wK2fvVSrvA&usqp=CAU',\n",
       " 'https://encrypted-tbn0.gstatic.com/images?q=tbn:ANd9GcSEOFMRsnz1lVYuTKWjjv5SrtPOWb93Hr7gfQ&usqp=CAU',\n",
       " 'https://encrypted-tbn0.gstatic.com/images?q=tbn:ANd9GcT3zpp0g5VqOaUnJfi7IKB6fYrnVuvvJ23DbA&usqp=CAU',\n",
       " 'https://encrypted-tbn0.gstatic.com/images?q=tbn:ANd9GcQ_PkcL2e5e5YFdi8ZrzWg8Qj0z8CFVvATIbw&usqp=CAU',\n",
       " 'https://encrypted-tbn0.gstatic.com/images?q=tbn:ANd9GcTf0kQC2DO8Wdt2CG8O-BBvtNL1jAKPteew1g&usqp=CAU',\n",
       " 'https://encrypted-tbn0.gstatic.com/images?q=tbn:ANd9GcQRxt6YLJvx46cS78RTzbxKRlakmMNeRfAucQ&usqp=CAU',\n",
       " 'https://encrypted-tbn0.gstatic.com/images?q=tbn:ANd9GcRD9F3z6_uMc1xmBAY_sZ8HN8IWFbMjcjXnAg&usqp=CAU',\n",
       " 'https://encrypted-tbn0.gstatic.com/images?q=tbn:ANd9GcTBPJgfIzm1KhFUfU9BNbQfnfEV-rp8jFuTaw&usqp=CAU',\n",
       " 'https://encrypted-tbn0.gstatic.com/images?q=tbn:ANd9GcSJ99vDqQ66bZjGPBR4F6HhOx3Bj9VbK17hsA&usqp=CAU',\n",
       " 'https://encrypted-tbn0.gstatic.com/images?q=tbn:ANd9GcQEj2tBLSYo2qWt2PNP6r61AHbf8XUWMEFjKA&usqp=CAU',\n",
       " 'https://encrypted-tbn0.gstatic.com/images?q=tbn:ANd9GcRYrzPP74E-Gqs0pFZJlkU6T4RyUPi_nwWb9Q&usqp=CAU',\n",
       " 'https://encrypted-tbn0.gstatic.com/images?q=tbn:ANd9GcQZs4O53cRtMwF4j0AorQM3tUpAVk0Cg62GPg&usqp=CAU',\n",
       " 'https://encrypted-tbn0.gstatic.com/images?q=tbn:ANd9GcRP8-Vrk7MXpOMPn_JQ_0r94FAyEL5fOLTfhg&usqp=CAU',\n",
       " 'https://encrypted-tbn0.gstatic.com/images?q=tbn:ANd9GcRGEULrCrvQTZlWuxzUNQVjzhbuHPQKhFWIig&usqp=CAU',\n",
       " 'https://encrypted-tbn0.gstatic.com/images?q=tbn:ANd9GcRMj9j8EGz-ki-vb_wAEmMUFAZV3WG6OV6Cpw&usqp=CAU',\n",
       " 'https://encrypted-tbn0.gstatic.com/images?q=tbn:ANd9GcTuimvKoUxLV1rORixn6GOPY4wFvZpFJL8CDg&usqp=CAU',\n",
       " 'https://encrypted-tbn0.gstatic.com/images?q=tbn:ANd9GcRW90lWOt67eIT51NcarM3jJRYIsOnOzrZM5Q&usqp=CAU',\n",
       " 'https://encrypted-tbn0.gstatic.com/images?q=tbn:ANd9GcT3ttwCc2abim1OhcelvBG3M40KNL0Y5N6dCw&usqp=CAU',\n",
       " 'https://encrypted-tbn0.gstatic.com/images?q=tbn:ANd9GcSnKMA3CeO4kZV-cxgupjLHROF2ZRLWQoXXSg&usqp=CAU',\n",
       " 'https://encrypted-tbn0.gstatic.com/images?q=tbn:ANd9GcRt8-Cs-wPD0eAKF5SJlIU243Oa8EWi89MenA&usqp=CAU',\n",
       " 'https://encrypted-tbn0.gstatic.com/images?q=tbn:ANd9GcRCv7ehxgvor5ic_ANvbXEOq2nfCL0gicEVsw&usqp=CAU',\n",
       " 'https://encrypted-tbn0.gstatic.com/images?q=tbn:ANd9GcRp2bJ28Bu3ZhYw1hgcg93onN129n7DSdOkaw&usqp=CAU',\n",
       " 'https://encrypted-tbn0.gstatic.com/images?q=tbn:ANd9GcR7-d5BHjfeabIwT1nalA1KsUz0Z6NRgmhgDw&usqp=CAU',\n",
       " 'https://encrypted-tbn0.gstatic.com/images?q=tbn:ANd9GcT0iKSUeCbi7m8IcSn22L1DaONbWq8gpKZCGg&usqp=CAU',\n",
       " 'https://encrypted-tbn0.gstatic.com/images?q=tbn:ANd9GcTIEo7sQAV5FbdjHc7vgQj7lCJphHu444fr1w&usqp=CAU',\n",
       " 'https://encrypted-tbn0.gstatic.com/images?q=tbn:ANd9GcTnsJ9HaxWfP5fyUoPXZvf4eCUzGJpAOcsXCw&usqp=CAU',\n",
       " 'https://encrypted-tbn0.gstatic.com/images?q=tbn:ANd9GcRziEpd1C77_uf10AoE06xDYljuSXM3xdnPyA&usqp=CAU',\n",
       " 'https://encrypted-tbn0.gstatic.com/images?q=tbn:ANd9GcSPh81eX8MTDD5yWhIcIQu9_BnqIuLAiOHuSg&usqp=CAU',\n",
       " 'https://encrypted-tbn0.gstatic.com/images?q=tbn:ANd9GcRkGwJIeSauxcOd8UOw2jqYwOMfWoIT80Yfsg&usqp=CAU',\n",
       " 'https://encrypted-tbn0.gstatic.com/images?q=tbn:ANd9GcRkNll4KjJ74XsjQA9r_OlRQ3MIMCbcqEdq9Q&usqp=CAU',\n",
       " 'https://encrypted-tbn0.gstatic.com/images?q=tbn:ANd9GcSeMFjNRrlAxPjz4I9B6LDP2retkUQjveemsg&usqp=CAU',\n",
       " 'https://encrypted-tbn0.gstatic.com/images?q=tbn:ANd9GcT43no8-Hm28B-cEFMPs8gyImuClcMpAOKiQQ&usqp=CAU',\n",
       " 'https://encrypted-tbn0.gstatic.com/images?q=tbn:ANd9GcS0HengH74c3D-dxdKUTMuXlqnuVuq3DuqsQw&usqp=CAU',\n",
       " 'https://encrypted-tbn0.gstatic.com/images?q=tbn:ANd9GcT2iCykVlewkKDyYVGql5HNuOpDad8fvEF9HQ&usqp=CAU',\n",
       " 'https://encrypted-tbn0.gstatic.com/images?q=tbn:ANd9GcSQd6C4Qlx2JrqkN8H4wsEO6IhxS7ONSxHqOg&usqp=CAU',\n",
       " 'https://encrypted-tbn0.gstatic.com/images?q=tbn:ANd9GcTNSJ19l6PZYqZs91r8kH89-RD3orHM4vAzwg&usqp=CAU',\n",
       " 'https://encrypted-tbn0.gstatic.com/images?q=tbn:ANd9GcT8IXDFDVr-yPsRkYOYz559iLeAginW5fw2xQ&usqp=CAU',\n",
       " 'https://encrypted-tbn0.gstatic.com/images?q=tbn:ANd9GcRsUFawqiYj0Yfkne6F5kVDcqebzTy94Tb-JQ&usqp=CAU',\n",
       " 'https://encrypted-tbn0.gstatic.com/images?q=tbn:ANd9GcQMMIVy7Al2HWlQ9VnN-SVH1Fx-tM7NKKnRkg&usqp=CAU',\n",
       " 'https://encrypted-tbn0.gstatic.com/images?q=tbn:ANd9GcR9gbNTLU5S75WtZvKKamI9M5YzgWJMY6K_wQ&usqp=CAU',\n",
       " 'https://encrypted-tbn0.gstatic.com/images?q=tbn:ANd9GcQGLWp3lQrU-NqKAqPp5VG51ghHrzhRCYvEMg&usqp=CAU',\n",
       " 'https://encrypted-tbn0.gstatic.com/images?q=tbn:ANd9GcT1cmNKgQ1HR7EKJizVbjO9mn1165kXgD2W9w&usqp=CAU',\n",
       " 'https://encrypted-tbn0.gstatic.com/images?q=tbn:ANd9GcRJgddFKphOWOq41sxOlZjTgvehYu-gReXObg&usqp=CAU',\n",
       " 'https://encrypted-tbn0.gstatic.com/images?q=tbn:ANd9GcQA49Dse2t2jvasyXNAqWPKWApKF3HLX7XcdQ&usqp=CAU',\n",
       " 'https://encrypted-tbn0.gstatic.com/images?q=tbn:ANd9GcS7SmBL2Qq1HfJsArkXXXMi3WCsblQU0_uURw&usqp=CAU',\n",
       " 'https://encrypted-tbn0.gstatic.com/images?q=tbn:ANd9GcSAIF5aHRnNrmxT1ciO6htjygKsIZ8X8amHXw&usqp=CAU']"
      ]
     },
     "execution_count": 31,
     "metadata": {},
     "output_type": "execute_result"
    }
   ],
   "source": [
    "img_src"
   ]
  },
  {
   "cell_type": "code",
   "execution_count": null,
   "metadata": {},
   "outputs": [],
   "source": []
  }
 ],
 "metadata": {
  "kernelspec": {
   "display_name": "Python 3",
   "language": "python",
   "name": "python3"
  },
  "language_info": {
   "codemirror_mode": {
    "name": "ipython",
    "version": 3
   },
   "file_extension": ".py",
   "mimetype": "text/x-python",
   "name": "python",
   "nbconvert_exporter": "python",
   "pygments_lexer": "ipython3",
   "version": "3.8.5"
  }
 },
 "nbformat": 4,
 "nbformat_minor": 4
}
