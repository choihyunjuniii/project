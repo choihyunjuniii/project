{
 "cells": [
  {
   "cell_type": "code",
   "execution_count": 1,
   "metadata": {},
   "outputs": [
    {
     "name": "stdout",
     "output_type": "stream",
     "text": [
      "햄버거\n",
      "치킨\n",
      "피자\n"
     ]
    }
   ],
   "source": [
    "list_food=['햄버거', '치킨', '피자']\n",
    "for food in list_food:\n",
    "    print(food)"
   ]
  },
  {
   "cell_type": "code",
   "execution_count": 7,
   "metadata": {},
   "outputs": [
    {
     "name": "stdout",
     "output_type": "stream",
     "text": [
      "피자\n",
      "피자\n",
      "피자\n"
     ]
    }
   ],
   "source": [
    "print(food)\n",
    "print(food)\n",
    "print(food)"
   ]
  },
  {
   "cell_type": "code",
   "execution_count": 8,
   "metadata": {},
   "outputs": [
    {
     "name": "stdout",
     "output_type": "stream",
     "text": [
      "안\n",
      "녕\n",
      "하\n",
      "세\n",
      "요\n"
     ]
    }
   ],
   "source": [
    "hi='안녕하세요'\n",
    "for s in hi :\n",
    "    print(s)"
   ]
  },
  {
   "cell_type": "code",
   "execution_count": 9,
   "metadata": {},
   "outputs": [
    {
     "name": "stdout",
     "output_type": "stream",
     "text": [
      "햄버거\n",
      "치킨\n",
      "피자\n"
     ]
    }
   ],
   "source": [
    "tuple_food=('햄버거', '치킨', '피자')\n",
    "for food in tuple_food:\n",
    "    print(food)"
   ]
  },
  {
   "cell_type": "code",
   "execution_count": null,
   "metadata": {},
   "outputs": [],
   "source": [
    "score_list=[90,45,70,60,55]\n",
    "for score in score_list:\n",
    "    n+=1\n",
    "    if score>=60\n",
    "        print('{}번 학생은 합격입니다.'.format())"
   ]
  },
  {
   "cell_type": "code",
   "execution_count": 11,
   "metadata": {},
   "outputs": [
    {
     "name": "stdout",
     "output_type": "stream",
     "text": [
      "1번 학생은 합격입니다.\n",
      "2번 학생은 불합격입니다.\n",
      "3번 학생은 합격입니다.\n",
      "4번 학생은 합격입니다.\n",
      "5번 학생은 불합격입니다.\n"
     ]
    }
   ],
   "source": [
    "score_list=[90,45,70,60,55]\n",
    "for score in score_list:\n",
    "    num=score_list.index(score)+1\n",
    "    if score >=60:\n",
    "        result = \"합격\"\n",
    "    else:\n",
    "        result='불합격'\n",
    "    print('{}번 학생은 {}입니다.'.format(num, result))"
   ]
  },
  {
   "cell_type": "code",
   "execution_count": 12,
   "metadata": {},
   "outputs": [
    {
     "name": "stdout",
     "output_type": "stream",
     "text": [
      "1\n",
      "2\n",
      "3\n",
      "4\n",
      "5\n",
      "6\n",
      "7\n",
      "8\n",
      "9\n"
     ]
    }
   ],
   "source": [
    "for i in range(1,10,1):\n",
    "    print(i)"
   ]
  },
  {
   "cell_type": "code",
   "execution_count": 20,
   "metadata": {},
   "outputs": [
    {
     "name": "stdout",
     "output_type": "stream",
     "text": [
      "0o1o2o3o4o5o6o7o8o9o"
     ]
    }
   ],
   "source": [
    "#1부터9까지 1씩 증가\n",
    "#0부터시작 : 기본값\n",
    "#1씩커짐 : 기본값\n",
    "for i in range(10):\n",
    "    print(i, end = \"o\")"
   ]
  },
  {
   "cell_type": "code",
   "execution_count": 16,
   "metadata": {
    "scrolled": true
   },
   "outputs": [
    {
     "name": "stdout",
     "output_type": "stream",
     "text": [
      "1\n",
      "2\n",
      "3\n"
     ]
    }
   ],
   "source": [
    "for g in range(1,4,1):\n",
    "    print(g)"
   ]
  },
  {
   "cell_type": "code",
   "execution_count": 23,
   "metadata": {},
   "outputs": [
    {
     "ename": "AttributeError",
     "evalue": "'int' object has no attribute 'reverse'",
     "output_type": "error",
     "traceback": [
      "\u001b[1;31m---------------------------------------------------------------------------\u001b[0m",
      "\u001b[1;31mAttributeError\u001b[0m                            Traceback (most recent call last)",
      "\u001b[1;32m<ipython-input-23-7f5364f31bed>\u001b[0m in \u001b[0;36m<module>\u001b[1;34m\u001b[0m\n\u001b[0;32m      1\u001b[0m \u001b[1;32mfor\u001b[0m \u001b[0mu\u001b[0m \u001b[1;32min\u001b[0m \u001b[0mrange\u001b[0m\u001b[1;33m(\u001b[0m\u001b[1;36m77\u001b[0m\u001b[1;33m,\u001b[0m\u001b[1;36m98\u001b[0m\u001b[1;33m,\u001b[0m\u001b[1;36m1\u001b[0m\u001b[1;33m)\u001b[0m\u001b[1;33m:\u001b[0m\u001b[1;33m\u001b[0m\u001b[1;33m\u001b[0m\u001b[0m\n\u001b[1;32m----> 2\u001b[1;33m     \u001b[0mu\u001b[0m\u001b[1;33m.\u001b[0m\u001b[0mreverse\u001b[0m\u001b[1;33m(\u001b[0m\u001b[1;33m)\u001b[0m\u001b[1;33m\u001b[0m\u001b[1;33m\u001b[0m\u001b[0m\n\u001b[0m\u001b[0;32m      3\u001b[0m     \u001b[0mprint\u001b[0m\u001b[1;33m(\u001b[0m\u001b[0mu\u001b[0m\u001b[1;33m)\u001b[0m\u001b[1;33m\u001b[0m\u001b[1;33m\u001b[0m\u001b[0m\n",
      "\u001b[1;31mAttributeError\u001b[0m: 'int' object has no attribute 'reverse'"
     ]
    }
   ],
   "source": [
    "for u in range(77,98,1):\n",
    "    u.reverse()\n",
    "    print(u)"
   ]
  },
  {
   "cell_type": "code",
   "execution_count": 26,
   "metadata": {},
   "outputs": [
    {
     "name": "stdout",
     "output_type": "stream",
     "text": [
      "97 96 95 94 93 92 91 90 89 88 87 86 85 84 83 82 81 80 79 78 77 "
     ]
    }
   ],
   "source": [
    "for u in range(97,76,-1) :\n",
    "    print(u, end=\" \")"
   ]
  },
  {
   "cell_type": "code",
   "execution_count": 69,
   "metadata": {
    "scrolled": true
   },
   "outputs": [
    {
     "name": "stdout",
     "output_type": "stream",
     "text": [
      "23\n",
      "24\n",
      "25\n",
      "26\n",
      "27\n",
      "28\n",
      "29\n"
     ]
    }
   ],
   "source": [
    "for t in range(23,30,1):\n",
    "    print(t)"
   ]
  },
  {
   "cell_type": "code",
   "execution_count": 27,
   "metadata": {
    "scrolled": true
   },
   "outputs": [
    {
     "name": "stdout",
     "output_type": "stream",
     "text": [
      "첫 번째 정수 입력>>10\n",
      "두 번째 정수 입력>>30\n",
      "10 11 12 13 14 15 16 17 18 19 20 21 22 23 24 25 26 27 28 29 30 "
     ]
    }
   ],
   "source": [
    "start=int(input('첫 번째 정수 입력>>'))\n",
    "end=int(input('두 번째 정수 입력>>'))\n",
    "for d in range(start,end+1):\n",
    "    print(d, end=\" \")\n"
   ]
  },
  {
   "cell_type": "code",
   "execution_count": 42,
   "metadata": {},
   "outputs": [
    {
     "name": "stdout",
     "output_type": "stream",
     "text": [
      "1683\n"
     ]
    }
   ],
   "source": [
    "#1부터100사이의 숫자 중 3의 배수인 값들의 합 출력\n",
    "#range 함수를 조절해서 3의 배수인 값만 출력\n",
    "#3으로 나눈 나머지가 0인 값들만 출력\n",
    "num=0\n",
    "for j in range(1,101):\n",
    "    if j%3==0:\n",
    "        num+=j\n",
    "print(num)\n"
   ]
  },
  {
   "cell_type": "code",
   "execution_count": 44,
   "metadata": {},
   "outputs": [
    {
     "name": "stdout",
     "output_type": "stream",
     "text": [
      "9 18 27 36 45 54 63 72 81 90 99 108 117 126 135 144 153 162 171 180 189 198 207 216 225 234 243 252 261 270 279 288 297 "
     ]
    }
   ],
   "source": [
    "sum1 =0 #합을 누적받을 변수\n",
    "for a in range (3,101,3):\n",
    "    sum1+=i\n",
    "    print(sum1, end=\" \")"
   ]
  },
  {
   "cell_type": "code",
   "execution_count": 48,
   "metadata": {},
   "outputs": [
    {
     "name": "stdout",
     "output_type": "stream",
     "text": [
      "1683\n"
     ]
    }
   ],
   "source": [
    "#3으로 나눈 나머지가 0인 값들만 출력\n",
    "sum1 =0\n",
    "for a in range (1,101):\n",
    "    if a % 3==0:\n",
    "        sum1+=a\n",
    "print(sum1)"
   ]
  },
  {
   "cell_type": "code",
   "execution_count": 38,
   "metadata": {
    "scrolled": true
   },
   "outputs": [
    {
     "name": "stdout",
     "output_type": "stream",
     "text": [
      "2*2 = 2\n",
      "2*2 = 4\n",
      "2*2 = 6\n",
      "2*2 = 8\n",
      "2*2 = 10\n",
      "2*2 = 12\n",
      "2*2 = 14\n",
      "2*2 = 16\n",
      "2*2 = 18\n"
     ]
    }
   ],
   "source": [
    "for l in range(2,19,2):\n",
    "    n=1\n",
    "    n+=1\n",
    "    print('2*{} ='.format(n),l)"
   ]
  },
  {
   "cell_type": "code",
   "execution_count": 50,
   "metadata": {},
   "outputs": [
    {
     "name": "stdout",
     "output_type": "stream",
     "text": [
      "2*1=2\n",
      "2*2=4\n",
      "2*3=6\n",
      "2*4=8\n",
      "2*5=10\n",
      "2*6=12\n",
      "2*7=14\n",
      "2*8=16\n",
      "2*9=18\n"
     ]
    }
   ],
   "source": [
    "#구구단2단 출력\n",
    "for i in range(1,10):\n",
    "    print(\"2*{}={}\".format(i,2*i))"
   ]
  },
  {
   "cell_type": "code",
   "execution_count": 63,
   "metadata": {},
   "outputs": [
    {
     "name": "stdout",
     "output_type": "stream",
     "text": [
      "정수 입력>>32\n",
      "32의 약수 :  1\n",
      "32의 약수 :  2\n",
      "32의 약수 :  4\n",
      "32의 약수 :  8\n",
      "32의 약수 :  16\n",
      "32의 약수 :  32\n"
     ]
    }
   ],
   "source": [
    "num=int(input(\"정수 입력>>\"))\n",
    "for i in range(1,num+1):\n",
    "    if num%i==0:\n",
    "        print('{}의 약수 : '.format(num),i)"
   ]
  },
  {
   "cell_type": "code",
   "execution_count": null,
   "metadata": {},
   "outputs": [],
   "source": [
    "num=int(input(\"정수 입력>>\"))\n",
    "print(\"{}의 약수 : \".format(1,num+1,end=))"
   ]
  },
  {
   "cell_type": "code",
   "execution_count": 70,
   "metadata": {},
   "outputs": [
    {
     "ename": "SyntaxError",
     "evalue": "invalid syntax (<ipython-input-70-b8b748630a80>, line 4)",
     "output_type": "error",
     "traceback": [
      "\u001b[1;36m  File \u001b[1;32m\"<ipython-input-70-b8b748630a80>\"\u001b[1;36m, line \u001b[1;32m4\u001b[0m\n\u001b[1;33m    if i=3:\u001b[0m\n\u001b[1;37m        ^\u001b[0m\n\u001b[1;31mSyntaxError\u001b[0m\u001b[1;31m:\u001b[0m invalid syntax\n"
     ]
    }
   ],
   "source": [
    "print('='*30)\n",
    "str1=int(input('[1]시험점수입력 [2]성적확인 [3]종료 >>'))\n",
    "for i in range(1,4):\n",
    "    if i=3:\n",
    "        print(str1)"
   ]
  },
  {
   "cell_type": "code",
   "execution_count": 1,
   "metadata": {},
   "outputs": [
    {
     "name": "stdout",
     "output_type": "stream",
     "text": [
      "==============================\n",
      "[1]시험점수입력 [2]성적확인 [3]종료 >>1\n",
      "[1]시험점수입력 [2]성적확인 [3]종료 >>2\n",
      "[1]시험점수입력 [2]성적확인 [3]종료 >>2\n",
      "[1]시험점수입력 [2]성적확인 [3]종료 >>3\n"
     ]
    }
   ],
   "source": [
    "print('='*30)\n",
    "while True : #계속입력할수잇는공간 완성\n",
    "    str1=int(input('[1]시험점수입력 [2]성적확인 [3]종료 >>'))\n",
    "    if str1 ==3:\n",
    "        break"
   ]
  },
  {
   "cell_type": "code",
   "execution_count": 6,
   "metadata": {},
   "outputs": [
    {
     "ename": "SyntaxError",
     "evalue": "invalid syntax (<ipython-input-6-83b79f3cd7e8>, line 6)",
     "output_type": "error",
     "traceback": [
      "\u001b[1;36m  File \u001b[1;32m\"<ipython-input-6-83b79f3cd7e8>\"\u001b[1;36m, line \u001b[1;32m6\u001b[0m\n\u001b[1;33m    elif str1 =1:\u001b[0m\n\u001b[1;37m              ^\u001b[0m\n\u001b[1;31mSyntaxError\u001b[0m\u001b[1;31m:\u001b[0m invalid syntax\n"
     ]
    }
   ],
   "source": [
    "print('='*30)\n",
    "while True :\n",
    "    str1=int(input('[1]시험점수입력 [2]성적확인 [3]종료 >>'))\n",
    "    if str1 ==3:\n",
    "        break\n",
    "    elif str1 =1:\n",
    "        print('이름 입력 : '))\n",
    "        studentScore2=int(input('Java 점수 입력 : >>'))\n",
    "        studentScore3=int(input('Web 점수 입력 : >>'))"
   ]
  },
  {
   "cell_type": "code",
   "execution_count": null,
   "metadata": {},
   "outputs": [
    {
     "name": "stdout",
     "output_type": "stream",
     "text": [
      "==============================\n"
     ]
    }
   ],
   "source": [
    "print('='*30)\n",
    "while True :\n",
    "    str1=int(input('[1]시험점수입력 [2]성적확인 [3]종료 >>'))\n",
    "    if str1==1:\n",
    "        studentScore=[이름,Java,Web]"
   ]
  },
  {
   "cell_type": "code",
   "execution_count": 3,
   "metadata": {},
   "outputs": [
    {
     "name": "stdout",
     "output_type": "stream",
     "text": [
      "1 2\n",
      "3 4\n",
      "5 6\n"
     ]
    }
   ],
   "source": [
    "#리스트 안에 3개의 리스트가 잇다 \n",
    "list1=[[1,2],[3,4],[5,6]]\n",
    "for i, j in list1:\n",
    "    print(i,j)"
   ]
  },
  {
   "cell_type": "code",
   "execution_count": 4,
   "metadata": {},
   "outputs": [
    {
     "name": "stdout",
     "output_type": "stream",
     "text": [
      "1\n",
      "7\n"
     ]
    }
   ],
   "source": [
    "a,b=1,7\n",
    "print(a)\n",
    "print(b)"
   ]
  },
  {
   "cell_type": "code",
   "execution_count": null,
   "metadata": {},
   "outputs": [],
   "source": [
    "print(\"=\"*30)\n",
    "studentScore = []\n",
    "while True :\n",
    "    select = int(input(\"[1]시험점수입력 [2]성적확인 [3]종료 >> \"))\n",
    "    if select == 1:\n",
    "        name = input('이름 입력 : ')\n",
    "        javaScore = int(input(\"Java 점수 입력 : \"))\n",
    "        webScore = int(input(\"web 점수 입력 : \"))\n",
    "        studentScore.append([name,javaScore,webScore])\n",
    "    elif select == 2:\n",
    "        print('이름\\tJava\\tWeb\\tGrade\\t')\n",
    "        print(\"-\"*30)\n",
    "        for a,b,c in studentScore:\n",
    "            mean = (b+c) / 2\n",
    "            if 100 >= mean >= 90 : \n",
    "                grade = 'A'\n",
    "            elif 90 > mean >= 80 :\n",
    "                grade = 'B'\n",
    "            elif 80 > mean >= 70 :\n",
    "                grade = 'C'\n",
    "            elif 70 > mean >= 60 :\n",
    "                grade = 'D'\n",
    "            else : \n",
    "                grade = 'F'\n",
    "            print(\"{}\\t{}\\t{}\\t{}\".format(a,b,c,grade))\n",
    "        print(\"-\"*30)\n",
    "    elif select == 3:\n",
    "        print(\"=\"*30)\n",
    "        break"
   ]
  }
 ],
 "metadata": {
  "kernelspec": {
   "display_name": "Python 3",
   "language": "python",
   "name": "python3"
  },
  "language_info": {
   "codemirror_mode": {
    "name": "ipython",
    "version": 3
   },
   "file_extension": ".py",
   "mimetype": "text/x-python",
   "name": "python",
   "nbconvert_exporter": "python",
   "pygments_lexer": "ipython3",
   "version": "3.8.5"
  }
 },
 "nbformat": 4,
 "nbformat_minor": 4
}
