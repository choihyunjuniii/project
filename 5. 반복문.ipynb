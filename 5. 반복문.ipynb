{
 "cells": [
  {
   "cell_type": "code",
   "execution_count": 8,
   "metadata": {},
   "outputs": [
    {
     "name": "stdout",
     "output_type": "stream",
     "text": [
      "1\n",
      "2\n",
      "3\n",
      "4\n",
      "5\n"
     ]
    }
   ],
   "source": [
    "number=1\n",
    "while number <=5:\n",
    "    print(number)\n",
    "    number +=1"
   ]
  },
  {
   "cell_type": "code",
   "execution_count": 11,
   "metadata": {},
   "outputs": [
    {
     "name": "stdout",
     "output_type": "stream",
     "text": [
      "0번째오늘은 갈비탕\n",
      "1번째오늘은 갈비탕\n",
      "2번째오늘은 갈비탕\n",
      "3번째오늘은 갈비탕\n",
      "4번째오늘은 갈비탕\n",
      "5번째오늘은 갈비탕\n"
     ]
    }
   ],
   "source": [
    "num=0\n",
    "while num <6:\n",
    "    print('{}번째오늘은 갈비탕'.format(num))\n",
    "    num +=1"
   ]
  },
  {
   "cell_type": "code",
   "execution_count": 18,
   "metadata": {},
   "outputs": [
    {
     "name": "stdout",
     "output_type": "stream",
     "text": [
      "1\n",
      "2\n",
      "3\n"
     ]
    }
   ],
   "source": [
    "num=1\n",
    "while True:\n",
    "    print(num)\n",
    "    num+=1\n",
    "    if num >3:\n",
    "        break"
   ]
  },
  {
   "cell_type": "code",
   "execution_count": null,
   "metadata": {},
   "outputs": [],
   "source": [
    "num1=int(input('첫번째정수입력>>'))\n",
    "num2=int(input('두번째정수입력>>'))\n",
    "while num1+num2 :\n",
    "    print(num1+num2)\n",
    "    break\n",
    "    if num1==0 and num2==0:\n",
    "        break"
   ]
  }
 ],
 "metadata": {
  "kernelspec": {
   "display_name": "Python 3",
   "language": "python",
   "name": "python3"
  },
  "language_info": {
   "codemirror_mode": {
    "name": "ipython",
    "version": 3
   },
   "file_extension": ".py",
   "mimetype": "text/x-python",
   "name": "python",
   "nbconvert_exporter": "python",
   "pygments_lexer": "ipython3",
   "version": "3.8.5"
  }
 },
 "nbformat": 4,
 "nbformat_minor": 4
}
