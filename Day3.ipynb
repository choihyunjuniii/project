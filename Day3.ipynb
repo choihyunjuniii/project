{
 "cells": [
  {
   "cell_type": "markdown",
   "metadata": {},
   "source": [
    "# 컴퓨터가 컴퓨터를 제어하자!"
   ]
  },
  {
   "cell_type": "markdown",
   "metadata": {},
   "source": [
    "### selenium 모듈\n",
    "- 웹페이지를 제어가기 위한 모듈"
   ]
  },
  {
   "cell_type": "code",
   "execution_count": 2,
   "metadata": {},
   "outputs": [
    {
     "name": "stdout",
     "output_type": "stream",
     "text": [
      "Collecting selenium\n",
      "  Downloading selenium-3.141.0-py2.py3-none-any.whl (904 kB)\n",
      "Requirement already satisfied: urllib3 in c:\\users\\sm2139\\anaconda3\\lib\\site-packages (from selenium) (1.25.11)\n",
      "Installing collected packages: selenium\n",
      "Successfully installed selenium-3.141.0\n"
     ]
    }
   ],
   "source": [
    "#셀레니움 설치 필요!\n",
    "#!pip install selenium"
   ]
  },
  {
   "cell_type": "code",
   "execution_count": 1,
   "metadata": {},
   "outputs": [],
   "source": [
    "# webdriver = 웹페이지를 제어하기 위한 모듈 >> 웨 그자체가 됨\n",
    "from selenium import webdriver as wb\n",
    "#키보드기능불러오기 = Keys\n",
    "from selenium.webdriver.common.keys import Keys\n",
    "#time = 쉬는 시간을 부여한다!(로딩될동안 쉬는 시간줄거야)\n",
    "import time"
   ]
  },
  {
   "cell_type": "code",
   "execution_count": 2,
   "metadata": {},
   "outputs": [],
   "source": [
    "## 크롬드라이버를 실행"
   ]
  },
  {
   "cell_type": "code",
   "execution_count": 3,
   "metadata": {},
   "outputs": [],
   "source": [
    "driver = wb.Chrome()\n",
    "url = \"https://www.naver.com/\"\n",
    "driver.get(url)"
   ]
  },
  {
   "cell_type": "code",
   "execution_count": 4,
   "metadata": {},
   "outputs": [],
   "source": [
    "## 1.검색창의 위치를 알아오기!\n",
    "search = driver.find_element_by_id(\"query\")"
   ]
  },
  {
   "cell_type": "code",
   "execution_count": 5,
   "metadata": {},
   "outputs": [],
   "source": [
    "#검색창 찾았으니 입력창만드기\n",
    "## 2. 검색어를 입력\n",
    "search.send_keys(\"손흥민\")"
   ]
  },
  {
   "cell_type": "markdown",
   "metadata": {},
   "source": [
    "# 클릭을 해서 검색하는 방법"
   ]
  },
  {
   "cell_type": "code",
   "execution_count": 22,
   "metadata": {},
   "outputs": [],
   "source": [
    "#버튼의 위치를 찾아줘야 함\n",
    "search_btn = driver.find_element_by_id(\"search_btn\")"
   ]
  },
  {
   "cell_type": "code",
   "execution_count": 23,
   "metadata": {},
   "outputs": [],
   "source": [
    "search_btn.click()"
   ]
  },
  {
   "cell_type": "markdown",
   "metadata": {},
   "source": [
    "# 엔터치기"
   ]
  },
  {
   "cell_type": "code",
   "execution_count": 27,
   "metadata": {},
   "outputs": [],
   "source": [
    "search.send_keys(Keys.ENTER)"
   ]
  },
  {
   "cell_type": "markdown",
   "metadata": {},
   "source": [
    "# 한솥도시락 이름, 가격 정보 수집"
   ]
  },
  {
   "cell_type": "code",
   "execution_count": 29,
   "metadata": {},
   "outputs": [],
   "source": [
    "from selenium import webdriver as wb\n",
    "from bs4 import BeautifulSoup as bs\n",
    "import pandas as pd\n",
    "import time"
   ]
  },
  {
   "cell_type": "code",
   "execution_count": 59,
   "metadata": {},
   "outputs": [],
   "source": [
    "url = \"https://www.hsd.co.kr/menu/menu_list\"\n",
    "driver = wb.Chrome()\n",
    "driver.get(url)"
   ]
  },
  {
   "cell_type": "code",
   "execution_count": 60,
   "metadata": {},
   "outputs": [],
   "source": [
    "soup = bs(driver.page_source, 'lxml')"
   ]
  },
  {
   "cell_type": "code",
   "execution_count": 61,
   "metadata": {},
   "outputs": [
    {
     "name": "stdout",
     "output_type": "stream",
     "text": [
      "토네이도 소세지 파스타\n",
      "트리플 치즈 파스타\n",
      "토마토 미트 파스타\n",
      "반찬 토네이도 소세지\n",
      "고메이 크림 고로케\n",
      "치킨스테이크 스페셜\n",
      "치킨스테이크 덮밥\n",
      "돈치스팸 김치찌개 정식\n",
      "돈치스팸 도시락\n",
      "빅치킨마요 김치찌개 정식\n",
      "치킨마요 김치찌개 정식\n",
      "블루존 스위트 아메리카노\n",
      "아이스 애플망고\n"
     ]
    }
   ],
   "source": [
    "##메뉴의 이름만 가져오기\n",
    "menu = soup.select(\"h4.h.fz_03\")\n",
    "for i in menu :\n",
    "    print(i.text)"
   ]
  },
  {
   "cell_type": "code",
   "execution_count": 62,
   "metadata": {},
   "outputs": [],
   "source": [
    "btn_more = driver.find_element_by_class_name(\"c_05\")"
   ]
  },
  {
   "cell_type": "code",
   "execution_count": 63,
   "metadata": {},
   "outputs": [],
   "source": [
    "btn_more.click()"
   ]
  },
  {
   "cell_type": "markdown",
   "metadata": {},
   "source": [
    "# 예외처리 (try문에서 오류나면 except로 빠져 처리)"
   ]
  },
  {
   "cell_type": "code",
   "execution_count": 57,
   "metadata": {
    "collapsed": true
   },
   "outputs": [
    {
     "ename": "StaleElementReferenceException",
     "evalue": "Message: stale element reference: element is not attached to the page document\n  (Session info: chrome=91.0.4472.77)\n",
     "output_type": "error",
     "traceback": [
      "\u001b[1;31m---------------------------------------------------------------------------\u001b[0m",
      "\u001b[1;31mStaleElementReferenceException\u001b[0m            Traceback (most recent call last)",
      "\u001b[1;32m<ipython-input-57-1456733f78a0>\u001b[0m in \u001b[0;36m<module>\u001b[1;34m\u001b[0m\n\u001b[0;32m      1\u001b[0m \u001b[1;32mfor\u001b[0m \u001b[0mi\u001b[0m \u001b[1;32min\u001b[0m \u001b[0mrange\u001b[0m\u001b[1;33m(\u001b[0m\u001b[1;36m50\u001b[0m\u001b[1;33m)\u001b[0m \u001b[1;33m:\u001b[0m\u001b[1;33m\u001b[0m\u001b[1;33m\u001b[0m\u001b[0m\n\u001b[1;32m----> 2\u001b[1;33m     \u001b[0mbtn_more\u001b[0m\u001b[1;33m.\u001b[0m\u001b[0mclick\u001b[0m\u001b[1;33m(\u001b[0m\u001b[1;33m)\u001b[0m\u001b[1;33m\u001b[0m\u001b[1;33m\u001b[0m\u001b[0m\n\u001b[0m\u001b[0;32m      3\u001b[0m     \u001b[0mtime\u001b[0m\u001b[1;33m.\u001b[0m\u001b[0msleep\u001b[0m\u001b[1;33m(\u001b[0m\u001b[1;36m2\u001b[0m\u001b[1;33m)\u001b[0m \u001b[1;31m#2초간 대기\u001b[0m\u001b[1;33m\u001b[0m\u001b[1;33m\u001b[0m\u001b[0m\n",
      "\u001b[1;32m~\\anaconda3\\lib\\site-packages\\selenium\\webdriver\\remote\\webelement.py\u001b[0m in \u001b[0;36mclick\u001b[1;34m(self)\u001b[0m\n\u001b[0;32m     78\u001b[0m     \u001b[1;32mdef\u001b[0m \u001b[0mclick\u001b[0m\u001b[1;33m(\u001b[0m\u001b[0mself\u001b[0m\u001b[1;33m)\u001b[0m\u001b[1;33m:\u001b[0m\u001b[1;33m\u001b[0m\u001b[1;33m\u001b[0m\u001b[0m\n\u001b[0;32m     79\u001b[0m         \u001b[1;34m\"\"\"Clicks the element.\"\"\"\u001b[0m\u001b[1;33m\u001b[0m\u001b[1;33m\u001b[0m\u001b[0m\n\u001b[1;32m---> 80\u001b[1;33m         \u001b[0mself\u001b[0m\u001b[1;33m.\u001b[0m\u001b[0m_execute\u001b[0m\u001b[1;33m(\u001b[0m\u001b[0mCommand\u001b[0m\u001b[1;33m.\u001b[0m\u001b[0mCLICK_ELEMENT\u001b[0m\u001b[1;33m)\u001b[0m\u001b[1;33m\u001b[0m\u001b[1;33m\u001b[0m\u001b[0m\n\u001b[0m\u001b[0;32m     81\u001b[0m \u001b[1;33m\u001b[0m\u001b[0m\n\u001b[0;32m     82\u001b[0m     \u001b[1;32mdef\u001b[0m \u001b[0msubmit\u001b[0m\u001b[1;33m(\u001b[0m\u001b[0mself\u001b[0m\u001b[1;33m)\u001b[0m\u001b[1;33m:\u001b[0m\u001b[1;33m\u001b[0m\u001b[1;33m\u001b[0m\u001b[0m\n",
      "\u001b[1;32m~\\anaconda3\\lib\\site-packages\\selenium\\webdriver\\remote\\webelement.py\u001b[0m in \u001b[0;36m_execute\u001b[1;34m(self, command, params)\u001b[0m\n\u001b[0;32m    631\u001b[0m             \u001b[0mparams\u001b[0m \u001b[1;33m=\u001b[0m \u001b[1;33m{\u001b[0m\u001b[1;33m}\u001b[0m\u001b[1;33m\u001b[0m\u001b[1;33m\u001b[0m\u001b[0m\n\u001b[0;32m    632\u001b[0m         \u001b[0mparams\u001b[0m\u001b[1;33m[\u001b[0m\u001b[1;34m'id'\u001b[0m\u001b[1;33m]\u001b[0m \u001b[1;33m=\u001b[0m \u001b[0mself\u001b[0m\u001b[1;33m.\u001b[0m\u001b[0m_id\u001b[0m\u001b[1;33m\u001b[0m\u001b[1;33m\u001b[0m\u001b[0m\n\u001b[1;32m--> 633\u001b[1;33m         \u001b[1;32mreturn\u001b[0m \u001b[0mself\u001b[0m\u001b[1;33m.\u001b[0m\u001b[0m_parent\u001b[0m\u001b[1;33m.\u001b[0m\u001b[0mexecute\u001b[0m\u001b[1;33m(\u001b[0m\u001b[0mcommand\u001b[0m\u001b[1;33m,\u001b[0m \u001b[0mparams\u001b[0m\u001b[1;33m)\u001b[0m\u001b[1;33m\u001b[0m\u001b[1;33m\u001b[0m\u001b[0m\n\u001b[0m\u001b[0;32m    634\u001b[0m \u001b[1;33m\u001b[0m\u001b[0m\n\u001b[0;32m    635\u001b[0m     \u001b[1;32mdef\u001b[0m \u001b[0mfind_element\u001b[0m\u001b[1;33m(\u001b[0m\u001b[0mself\u001b[0m\u001b[1;33m,\u001b[0m \u001b[0mby\u001b[0m\u001b[1;33m=\u001b[0m\u001b[0mBy\u001b[0m\u001b[1;33m.\u001b[0m\u001b[0mID\u001b[0m\u001b[1;33m,\u001b[0m \u001b[0mvalue\u001b[0m\u001b[1;33m=\u001b[0m\u001b[1;32mNone\u001b[0m\u001b[1;33m)\u001b[0m\u001b[1;33m:\u001b[0m\u001b[1;33m\u001b[0m\u001b[1;33m\u001b[0m\u001b[0m\n",
      "\u001b[1;32m~\\anaconda3\\lib\\site-packages\\selenium\\webdriver\\remote\\webdriver.py\u001b[0m in \u001b[0;36mexecute\u001b[1;34m(self, driver_command, params)\u001b[0m\n\u001b[0;32m    319\u001b[0m         \u001b[0mresponse\u001b[0m \u001b[1;33m=\u001b[0m \u001b[0mself\u001b[0m\u001b[1;33m.\u001b[0m\u001b[0mcommand_executor\u001b[0m\u001b[1;33m.\u001b[0m\u001b[0mexecute\u001b[0m\u001b[1;33m(\u001b[0m\u001b[0mdriver_command\u001b[0m\u001b[1;33m,\u001b[0m \u001b[0mparams\u001b[0m\u001b[1;33m)\u001b[0m\u001b[1;33m\u001b[0m\u001b[1;33m\u001b[0m\u001b[0m\n\u001b[0;32m    320\u001b[0m         \u001b[1;32mif\u001b[0m \u001b[0mresponse\u001b[0m\u001b[1;33m:\u001b[0m\u001b[1;33m\u001b[0m\u001b[1;33m\u001b[0m\u001b[0m\n\u001b[1;32m--> 321\u001b[1;33m             \u001b[0mself\u001b[0m\u001b[1;33m.\u001b[0m\u001b[0merror_handler\u001b[0m\u001b[1;33m.\u001b[0m\u001b[0mcheck_response\u001b[0m\u001b[1;33m(\u001b[0m\u001b[0mresponse\u001b[0m\u001b[1;33m)\u001b[0m\u001b[1;33m\u001b[0m\u001b[1;33m\u001b[0m\u001b[0m\n\u001b[0m\u001b[0;32m    322\u001b[0m             response['value'] = self._unwrap_value(\n\u001b[0;32m    323\u001b[0m                 response.get('value', None))\n",
      "\u001b[1;32m~\\anaconda3\\lib\\site-packages\\selenium\\webdriver\\remote\\errorhandler.py\u001b[0m in \u001b[0;36mcheck_response\u001b[1;34m(self, response)\u001b[0m\n\u001b[0;32m    240\u001b[0m                 \u001b[0malert_text\u001b[0m \u001b[1;33m=\u001b[0m \u001b[0mvalue\u001b[0m\u001b[1;33m[\u001b[0m\u001b[1;34m'alert'\u001b[0m\u001b[1;33m]\u001b[0m\u001b[1;33m.\u001b[0m\u001b[0mget\u001b[0m\u001b[1;33m(\u001b[0m\u001b[1;34m'text'\u001b[0m\u001b[1;33m)\u001b[0m\u001b[1;33m\u001b[0m\u001b[1;33m\u001b[0m\u001b[0m\n\u001b[0;32m    241\u001b[0m             \u001b[1;32mraise\u001b[0m \u001b[0mexception_class\u001b[0m\u001b[1;33m(\u001b[0m\u001b[0mmessage\u001b[0m\u001b[1;33m,\u001b[0m \u001b[0mscreen\u001b[0m\u001b[1;33m,\u001b[0m \u001b[0mstacktrace\u001b[0m\u001b[1;33m,\u001b[0m \u001b[0malert_text\u001b[0m\u001b[1;33m)\u001b[0m\u001b[1;33m\u001b[0m\u001b[1;33m\u001b[0m\u001b[0m\n\u001b[1;32m--> 242\u001b[1;33m         \u001b[1;32mraise\u001b[0m \u001b[0mexception_class\u001b[0m\u001b[1;33m(\u001b[0m\u001b[0mmessage\u001b[0m\u001b[1;33m,\u001b[0m \u001b[0mscreen\u001b[0m\u001b[1;33m,\u001b[0m \u001b[0mstacktrace\u001b[0m\u001b[1;33m)\u001b[0m\u001b[1;33m\u001b[0m\u001b[1;33m\u001b[0m\u001b[0m\n\u001b[0m\u001b[0;32m    243\u001b[0m \u001b[1;33m\u001b[0m\u001b[0m\n\u001b[0;32m    244\u001b[0m     \u001b[1;32mdef\u001b[0m \u001b[0m_value_or_default\u001b[0m\u001b[1;33m(\u001b[0m\u001b[0mself\u001b[0m\u001b[1;33m,\u001b[0m \u001b[0mobj\u001b[0m\u001b[1;33m,\u001b[0m \u001b[0mkey\u001b[0m\u001b[1;33m,\u001b[0m \u001b[0mdefault\u001b[0m\u001b[1;33m)\u001b[0m\u001b[1;33m:\u001b[0m\u001b[1;33m\u001b[0m\u001b[1;33m\u001b[0m\u001b[0m\n",
      "\u001b[1;31mStaleElementReferenceException\u001b[0m: Message: stale element reference: element is not attached to the page document\n  (Session info: chrome=91.0.4472.77)\n"
     ]
    }
   ],
   "source": [
    "for i in range(50) :\n",
    "    btn_more.click()\n",
    "    time.sleep(2) #2초간 대기"
   ]
  },
  {
   "cell_type": "code",
   "execution_count": 64,
   "metadata": {},
   "outputs": [
    {
     "name": "stdout",
     "output_type": "stream",
     "text": [
      "종료되었습니다.\n"
     ]
    }
   ],
   "source": [
    "try :\n",
    "    for i in range(50) :\n",
    "        btn_more.click()\n",
    "        time.sleep(2)\n",
    "except :\n",
    "    print(\"종료되었습니다.\")"
   ]
  },
  {
   "cell_type": "code",
   "execution_count": 65,
   "metadata": {},
   "outputs": [],
   "source": [
    "#메뉴명을 가지고오기\n",
    "#가격을 가지고오기\n",
    "#데이터프레임 제작(순수한 메뉴명, 가격)"
   ]
  },
  {
   "cell_type": "code",
   "execution_count": 78,
   "metadata": {},
   "outputs": [],
   "source": [
    "from selenium import webdriver as wb\n",
    "from bs4 import BeautifulSoup as bs\n",
    "import pandas as pd\n",
    "import time"
   ]
  },
  {
   "cell_type": "markdown",
   "metadata": {},
   "source": [
    "### 반복문의 진행상황 체크해주는 라이브러리"
   ]
  },
  {
   "cell_type": "code",
   "execution_count": 94,
   "metadata": {},
   "outputs": [],
   "source": [
    "from tqdm import tqdm_notebook as tq"
   ]
  },
  {
   "cell_type": "code",
   "execution_count": 97,
   "metadata": {},
   "outputs": [
    {
     "name": "stdout",
     "output_type": "stream",
     "text": [
      "종료되었습니다.\n"
     ]
    },
    {
     "name": "stderr",
     "output_type": "stream",
     "text": [
      "<ipython-input-97-487173993cd6>:24: TqdmDeprecationWarning: This function will be removed in tqdm==5.0.0\n",
      "Please use `tqdm.notebook.tqdm` instead of `tqdm.tqdm_notebook`\n",
      "  for i in tq(range(len(menu))) :\n"
     ]
    },
    {
     "data": {
      "application/vnd.jupyter.widget-view+json": {
       "model_id": "49bf16e0f58a44c3841a3c4cab8edfc0",
       "version_major": 2,
       "version_minor": 0
      },
      "text/plain": [
       "HBox(children=(HTML(value=''), FloatProgress(value=0.0, max=93.0), HTML(value='')))"
      ]
     },
     "metadata": {},
     "output_type": "display_data"
    },
    {
     "name": "stdout",
     "output_type": "stream",
     "text": [
      "\n"
     ]
    },
    {
     "data": {
      "text/html": [
       "<div>\n",
       "<style scoped>\n",
       "    .dataframe tbody tr th:only-of-type {\n",
       "        vertical-align: middle;\n",
       "    }\n",
       "\n",
       "    .dataframe tbody tr th {\n",
       "        vertical-align: top;\n",
       "    }\n",
       "\n",
       "    .dataframe thead th {\n",
       "        text-align: right;\n",
       "    }\n",
       "</style>\n",
       "<table border=\"1\" class=\"dataframe\">\n",
       "  <thead>\n",
       "    <tr style=\"text-align: right;\">\n",
       "      <th></th>\n",
       "      <th>메뉴</th>\n",
       "      <th>가격</th>\n",
       "    </tr>\n",
       "  </thead>\n",
       "  <tbody>\n",
       "    <tr>\n",
       "      <th>0</th>\n",
       "      <td>토네이도 소세지 파스타</td>\n",
       "      <td>가격: 5,500원</td>\n",
       "    </tr>\n",
       "    <tr>\n",
       "      <th>1</th>\n",
       "      <td>트리플 치즈 파스타</td>\n",
       "      <td>가격: 5,500원</td>\n",
       "    </tr>\n",
       "    <tr>\n",
       "      <th>2</th>\n",
       "      <td>토마토 미트 파스타</td>\n",
       "      <td>가격: 4,500원</td>\n",
       "    </tr>\n",
       "    <tr>\n",
       "      <th>3</th>\n",
       "      <td>반찬 토네이도 소세지</td>\n",
       "      <td>가격: 2,600원</td>\n",
       "    </tr>\n",
       "    <tr>\n",
       "      <th>4</th>\n",
       "      <td>고메이 크림 고로케</td>\n",
       "      <td>가격: 3,500원</td>\n",
       "    </tr>\n",
       "    <tr>\n",
       "      <th>...</th>\n",
       "      <td>...</td>\n",
       "      <td>...</td>\n",
       "    </tr>\n",
       "    <tr>\n",
       "      <th>88</th>\n",
       "      <td>볶음김치</td>\n",
       "      <td>가격: 400원</td>\n",
       "    </tr>\n",
       "    <tr>\n",
       "      <th>89</th>\n",
       "      <td>김치</td>\n",
       "      <td>가격: 300원</td>\n",
       "    </tr>\n",
       "    <tr>\n",
       "      <th>90</th>\n",
       "      <td>무말랭이 무침</td>\n",
       "      <td>가격: 300원</td>\n",
       "    </tr>\n",
       "    <tr>\n",
       "      <th>91</th>\n",
       "      <td>한솥밥</td>\n",
       "      <td>가격: 1,000원</td>\n",
       "    </tr>\n",
       "    <tr>\n",
       "      <th>92</th>\n",
       "      <td>현미밥</td>\n",
       "      <td>가격: 1,700원</td>\n",
       "    </tr>\n",
       "  </tbody>\n",
       "</table>\n",
       "<p>93 rows × 2 columns</p>\n",
       "</div>"
      ],
      "text/plain": [
       "              메뉴          가격\n",
       "0   토네이도 소세지 파스타  가격: 5,500원\n",
       "1     트리플 치즈 파스타  가격: 5,500원\n",
       "2     토마토 미트 파스타  가격: 4,500원\n",
       "3    반찬 토네이도 소세지  가격: 2,600원\n",
       "4     고메이 크림 고로케  가격: 3,500원\n",
       "..           ...         ...\n",
       "88          볶음김치    가격: 400원\n",
       "89            김치    가격: 300원\n",
       "90       무말랭이 무침    가격: 300원\n",
       "91           한솥밥  가격: 1,000원\n",
       "92           현미밥  가격: 1,700원\n",
       "\n",
       "[93 rows x 2 columns]"
      ]
     },
     "execution_count": 97,
     "metadata": {},
     "output_type": "execute_result"
    }
   ],
   "source": [
    "url = \"https://www.hsd.co.kr/menu/menu_list\"\n",
    "driver = wb.Chrome()\n",
    "driver.get(url)\n",
    "time.sleep(2)\n",
    "\n",
    "btn_more = driver.find_element_by_class_name(\"c_05\")\n",
    "\n",
    "try :\n",
    "    for i in range(50) :\n",
    "        btn_more.click()\n",
    "        time.sleep(2)\n",
    "except :\n",
    "    print(\"종료되었습니다.\")\n",
    "    \n",
    "soup = bs(driver.page_source, 'lxml')\n",
    "\n",
    "menu = soup.select(\"h4.h.fz_03\")\n",
    "time.sleep(2)\n",
    "price = soup.select(\"div.item-price\")\n",
    "time.sleep(2)\n",
    "\n",
    "menu_list = []\n",
    "price_list = []\n",
    "for i in tq(range(len(menu))) :\n",
    "    \n",
    "    menu_list.append(menu[i].text.strip())\n",
    "    price_list.append(price[i].text.strip())\n",
    "\n",
    "data = {\"메뉴\" : menu_list, \"가격\" : price_list}\n",
    "time.sleep(2)\n",
    "\n",
    "pd.DataFrame(data)"
   ]
  },
  {
   "cell_type": "code",
   "execution_count": null,
   "metadata": {},
   "outputs": [],
   "source": [
    "url = \"https://www.hsd.co.kr/menu/menu_list\"\n",
    "driver = wb.Chrome()\n",
    "driver.get(url)"
   ]
  },
  {
   "cell_type": "code",
   "execution_count": 80,
   "metadata": {},
   "outputs": [],
   "source": [
    "soup = bs(driver.page_source, 'lxml')\n",
    "\n"
   ]
  },
  {
   "cell_type": "code",
   "execution_count": 81,
   "metadata": {
    "collapsed": true
   },
   "outputs": [
    {
     "name": "stdout",
     "output_type": "stream",
     "text": [
      "토네이도 소세지 파스타\n",
      "트리플 치즈 파스타\n",
      "토마토 미트 파스타\n",
      "반찬 토네이도 소세지\n",
      "고메이 크림 고로케\n",
      "치킨스테이크 스페셜\n",
      "치킨스테이크 덮밥\n",
      "돈치스팸 김치찌개 정식\n",
      "돈치스팸 도시락\n",
      "빅치킨마요 김치찌개 정식\n",
      "치킨마요 김치찌개 정식\n",
      "블루존 스위트 아메리카노\n",
      "아이스 애플망고\n",
      "매화(치킨, 연어구이)\n",
      "매화(순살 고등어 간장구이)\n",
      "진달래\n",
      "개나리(순살 고등어 간장구이)\n",
      "돈까스도련님고기고기\n",
      "탕수육도련님고기고기\n",
      "새치 고기고기\n",
      "돈치 고기고기\n",
      "고기고기\n",
      "숯불직화구이\n",
      "소불고기\n",
      "메가치킨제육\n",
      "칠리 찹쌀탕수육도련님\n",
      "동백\n",
      "치킨제육\n",
      "돈까스도련님\n",
      "제육볶음\n",
      "고추장숯불삼겹정식\n",
      "숯불삼겹정식\n",
      "제육 김치찌개 정식\n",
      "메가스팸마요\n",
      "스팸마요\n",
      "메가치킨마요\n",
      "왕치킨마요\n",
      "빅치킨마요\n",
      "치킨마요\n",
      "참치마요\n",
      "돈치마요\n",
      "치즈 카레도시락\n",
      "돈까스 카레\n",
      "3종치즈 김치볶음밥\n",
      "스팸 김치볶음밥\n",
      "김치볶음밥\n",
      "스팸철판볶음밥\n",
      "소불고기 철판볶음밥\n",
      "소고기 육개장\n",
      "묵은지 김치찌개\n",
      "고추장숯불삼겹덮밥\n",
      "숯불직화구이 덮밥\n",
      "왕카레돈까스덮밥\n",
      "새우돈까스 덮밥\n",
      "돈까스 덮밥\n",
      "소불고기 감초고추장 비빔밥\n",
      "시골제육 두부강된장 비빔밥\n",
      "참치야채 감초고추장\n",
      "튼튼도시락\n"
     ]
    }
   ],
   "source": [
    "menu = soup.select(\"h4.h.fz_03\")\n",
    "for i in menu :\n",
    "    print(i.text)"
   ]
  },
  {
   "cell_type": "code",
   "execution_count": 82,
   "metadata": {
    "collapsed": true
   },
   "outputs": [
    {
     "name": "stdout",
     "output_type": "stream",
     "text": [
      " 가격: 5,500원                    \n",
      " 가격: 5,500원                    \n",
      " 가격: 4,500원                    \n",
      " 가격: 2,600원                    \n",
      " 가격: 3,500원                    \n",
      " 가격: 10,000원                    \n",
      " 가격: 5,700원                    \n",
      " 가격: 8,000원                    \n",
      " 가격: 4,600원                    \n",
      " 가격: 6,900원                    \n",
      " 가격: 6,300원                    \n",
      " 가격: 1,500원                    \n",
      " 가격: 1,500원                    \n",
      " 가격: 10,000원                    \n",
      " 가격: 10,000원                    \n",
      " 가격: 7,000원                    \n",
      " 가격: 8,000원                    \n",
      " 가격: 5,600원                    \n",
      " 가격: 5,600원                    \n",
      " 가격: 6,000원                    \n",
      " 가격: 5,300원                    \n",
      " 가격: 4,000원                    \n",
      " 가격: 6,500원                    \n",
      " 가격: 5,000원                    \n",
      " 가격: 6,900원                    \n",
      " 가격: 4,000원                    \n",
      " 가격: 5,000원                    \n",
      " 가격: 4,400원                    \n",
      " 가격: 4,000원                    \n",
      " 가격: 3,900원                    \n",
      " 가격: 9,000원                    \n",
      " 가격: 8,500원                    \n",
      " 가격: 8,000원                    \n",
      " 가격: 5,500원                    \n",
      " 가격: 3,500원                    \n",
      " 가격: 5,200원                    \n",
      " 가격: 4,200원                    \n",
      " 가격: 3,500원                    \n",
      " 가격: 2,900원                    \n",
      " 가격: 2,900원                    \n",
      " 가격: 3,500원                    \n",
      " 가격: 4,100원                    \n",
      " 가격: 4,100원                    \n",
      " 가격: 4,700원                    \n",
      " 가격: 4,500원                    \n",
      " 가격: 3,700원                    \n",
      " 가격: 4,500원                    \n",
      " 가격: 4,500원                    \n",
      " 가격: 4,500원                    \n",
      " 가격: 4,300원                    \n",
      " 가격: 6,500원                    \n",
      " 가격: 5,700원                    \n",
      " 가격: 5,600원                    \n",
      " 가격: 3,900원                    \n",
      " 가격: 3,600원                    \n",
      " 가격: 4,800원                    \n",
      " 가격: 4,800원                    \n",
      " 가격: 3,200원                    \n",
      " 가격: 5,000원                    \n"
     ]
    }
   ],
   "source": [
    "price = soup.select(\"div.item-price\")\n",
    "for i in price :\n",
    "    print(i.text)"
   ]
  },
  {
   "cell_type": "code",
   "execution_count": 83,
   "metadata": {},
   "outputs": [],
   "source": [
    "btn_more = driver.find_element_by_class_name(\"c_05\")"
   ]
  },
  {
   "cell_type": "code",
   "execution_count": 84,
   "metadata": {},
   "outputs": [],
   "source": [
    "btn_more.click()"
   ]
  },
  {
   "cell_type": "code",
   "execution_count": 85,
   "metadata": {},
   "outputs": [
    {
     "name": "stdout",
     "output_type": "stream",
     "text": [
      "종료되었습니다.\n"
     ]
    }
   ],
   "source": [
    "try :\n",
    "    for i in range(50) :\n",
    "        btn_more.click()\n",
    "        time.sleep(2)\n",
    "except :\n",
    "    print(\"종료되었습니다.\")"
   ]
  },
  {
   "cell_type": "code",
   "execution_count": 86,
   "metadata": {},
   "outputs": [
    {
     "name": "stdout",
     "output_type": "stream",
     "text": [
      "59\n",
      "59\n"
     ]
    }
   ],
   "source": [
    "print(len(menu))\n",
    "print(len(price))"
   ]
  },
  {
   "cell_type": "code",
   "execution_count": 87,
   "metadata": {},
   "outputs": [],
   "source": [
    "menu_list = []\n",
    "price_list = []\n",
    "for i in range(len(menu)) :\n",
    "    \n",
    "    menu_list.append(menu[i].text.strip())\n",
    "    price_list.append(price[i].text.strip())"
   ]
  },
  {
   "cell_type": "code",
   "execution_count": 88,
   "metadata": {
    "collapsed": true
   },
   "outputs": [
    {
     "data": {
      "text/plain": [
       "['토네이도 소세지 파스타',\n",
       " '트리플 치즈 파스타',\n",
       " '토마토 미트 파스타',\n",
       " '반찬 토네이도 소세지',\n",
       " '고메이 크림 고로케',\n",
       " '치킨스테이크 스페셜',\n",
       " '치킨스테이크 덮밥',\n",
       " '돈치스팸 김치찌개 정식',\n",
       " '돈치스팸 도시락',\n",
       " '빅치킨마요 김치찌개 정식',\n",
       " '치킨마요 김치찌개 정식',\n",
       " '블루존 스위트 아메리카노',\n",
       " '아이스 애플망고',\n",
       " '매화(치킨, 연어구이)',\n",
       " '매화(순살 고등어 간장구이)',\n",
       " '진달래',\n",
       " '개나리(순살 고등어 간장구이)',\n",
       " '돈까스도련님고기고기',\n",
       " '탕수육도련님고기고기',\n",
       " '새치 고기고기',\n",
       " '돈치 고기고기',\n",
       " '고기고기',\n",
       " '숯불직화구이',\n",
       " '소불고기',\n",
       " '메가치킨제육',\n",
       " '칠리 찹쌀탕수육도련님',\n",
       " '동백',\n",
       " '치킨제육',\n",
       " '돈까스도련님',\n",
       " '제육볶음',\n",
       " '고추장숯불삼겹정식',\n",
       " '숯불삼겹정식',\n",
       " '제육 김치찌개 정식',\n",
       " '메가스팸마요',\n",
       " '스팸마요',\n",
       " '메가치킨마요',\n",
       " '왕치킨마요',\n",
       " '빅치킨마요',\n",
       " '치킨마요',\n",
       " '참치마요',\n",
       " '돈치마요',\n",
       " '치즈 카레도시락',\n",
       " '돈까스 카레',\n",
       " '3종치즈 김치볶음밥',\n",
       " '스팸 김치볶음밥',\n",
       " '김치볶음밥',\n",
       " '스팸철판볶음밥',\n",
       " '소불고기 철판볶음밥',\n",
       " '소고기 육개장',\n",
       " '묵은지 김치찌개',\n",
       " '고추장숯불삼겹덮밥',\n",
       " '숯불직화구이 덮밥',\n",
       " '왕카레돈까스덮밥',\n",
       " '새우돈까스 덮밥',\n",
       " '돈까스 덮밥',\n",
       " '소불고기 감초고추장 비빔밥',\n",
       " '시골제육 두부강된장 비빔밥',\n",
       " '참치야채 감초고추장',\n",
       " '튼튼도시락']"
      ]
     },
     "execution_count": 88,
     "metadata": {},
     "output_type": "execute_result"
    }
   ],
   "source": [
    "menu_list"
   ]
  },
  {
   "cell_type": "code",
   "execution_count": 89,
   "metadata": {
    "collapsed": true
   },
   "outputs": [
    {
     "data": {
      "text/plain": [
       "['가격: 5,500원',\n",
       " '가격: 5,500원',\n",
       " '가격: 4,500원',\n",
       " '가격: 2,600원',\n",
       " '가격: 3,500원',\n",
       " '가격: 10,000원',\n",
       " '가격: 5,700원',\n",
       " '가격: 8,000원',\n",
       " '가격: 4,600원',\n",
       " '가격: 6,900원',\n",
       " '가격: 6,300원',\n",
       " '가격: 1,500원',\n",
       " '가격: 1,500원',\n",
       " '가격: 10,000원',\n",
       " '가격: 10,000원',\n",
       " '가격: 7,000원',\n",
       " '가격: 8,000원',\n",
       " '가격: 5,600원',\n",
       " '가격: 5,600원',\n",
       " '가격: 6,000원',\n",
       " '가격: 5,300원',\n",
       " '가격: 4,000원',\n",
       " '가격: 6,500원',\n",
       " '가격: 5,000원',\n",
       " '가격: 6,900원',\n",
       " '가격: 4,000원',\n",
       " '가격: 5,000원',\n",
       " '가격: 4,400원',\n",
       " '가격: 4,000원',\n",
       " '가격: 3,900원',\n",
       " '가격: 9,000원',\n",
       " '가격: 8,500원',\n",
       " '가격: 8,000원',\n",
       " '가격: 5,500원',\n",
       " '가격: 3,500원',\n",
       " '가격: 5,200원',\n",
       " '가격: 4,200원',\n",
       " '가격: 3,500원',\n",
       " '가격: 2,900원',\n",
       " '가격: 2,900원',\n",
       " '가격: 3,500원',\n",
       " '가격: 4,100원',\n",
       " '가격: 4,100원',\n",
       " '가격: 4,700원',\n",
       " '가격: 4,500원',\n",
       " '가격: 3,700원',\n",
       " '가격: 4,500원',\n",
       " '가격: 4,500원',\n",
       " '가격: 4,500원',\n",
       " '가격: 4,300원',\n",
       " '가격: 6,500원',\n",
       " '가격: 5,700원',\n",
       " '가격: 5,600원',\n",
       " '가격: 3,900원',\n",
       " '가격: 3,600원',\n",
       " '가격: 4,800원',\n",
       " '가격: 4,800원',\n",
       " '가격: 3,200원',\n",
       " '가격: 5,000원']"
      ]
     },
     "execution_count": 89,
     "metadata": {},
     "output_type": "execute_result"
    }
   ],
   "source": [
    "price_list"
   ]
  },
  {
   "cell_type": "code",
   "execution_count": 90,
   "metadata": {},
   "outputs": [],
   "source": [
    "data = {\"메뉴\" : menu_list, \"가격\" : price_list}"
   ]
  },
  {
   "cell_type": "code",
   "execution_count": 91,
   "metadata": {
    "collapsed": true
   },
   "outputs": [
    {
     "data": {
      "text/html": [
       "<div>\n",
       "<style scoped>\n",
       "    .dataframe tbody tr th:only-of-type {\n",
       "        vertical-align: middle;\n",
       "    }\n",
       "\n",
       "    .dataframe tbody tr th {\n",
       "        vertical-align: top;\n",
       "    }\n",
       "\n",
       "    .dataframe thead th {\n",
       "        text-align: right;\n",
       "    }\n",
       "</style>\n",
       "<table border=\"1\" class=\"dataframe\">\n",
       "  <thead>\n",
       "    <tr style=\"text-align: right;\">\n",
       "      <th></th>\n",
       "      <th>메뉴</th>\n",
       "      <th>가격</th>\n",
       "    </tr>\n",
       "  </thead>\n",
       "  <tbody>\n",
       "    <tr>\n",
       "      <th>0</th>\n",
       "      <td>토네이도 소세지 파스타</td>\n",
       "      <td>가격: 5,500원</td>\n",
       "    </tr>\n",
       "    <tr>\n",
       "      <th>1</th>\n",
       "      <td>트리플 치즈 파스타</td>\n",
       "      <td>가격: 5,500원</td>\n",
       "    </tr>\n",
       "    <tr>\n",
       "      <th>2</th>\n",
       "      <td>토마토 미트 파스타</td>\n",
       "      <td>가격: 4,500원</td>\n",
       "    </tr>\n",
       "    <tr>\n",
       "      <th>3</th>\n",
       "      <td>반찬 토네이도 소세지</td>\n",
       "      <td>가격: 2,600원</td>\n",
       "    </tr>\n",
       "    <tr>\n",
       "      <th>4</th>\n",
       "      <td>고메이 크림 고로케</td>\n",
       "      <td>가격: 3,500원</td>\n",
       "    </tr>\n",
       "    <tr>\n",
       "      <th>5</th>\n",
       "      <td>치킨스테이크 스페셜</td>\n",
       "      <td>가격: 10,000원</td>\n",
       "    </tr>\n",
       "    <tr>\n",
       "      <th>6</th>\n",
       "      <td>치킨스테이크 덮밥</td>\n",
       "      <td>가격: 5,700원</td>\n",
       "    </tr>\n",
       "    <tr>\n",
       "      <th>7</th>\n",
       "      <td>돈치스팸 김치찌개 정식</td>\n",
       "      <td>가격: 8,000원</td>\n",
       "    </tr>\n",
       "    <tr>\n",
       "      <th>8</th>\n",
       "      <td>돈치스팸 도시락</td>\n",
       "      <td>가격: 4,600원</td>\n",
       "    </tr>\n",
       "    <tr>\n",
       "      <th>9</th>\n",
       "      <td>빅치킨마요 김치찌개 정식</td>\n",
       "      <td>가격: 6,900원</td>\n",
       "    </tr>\n",
       "    <tr>\n",
       "      <th>10</th>\n",
       "      <td>치킨마요 김치찌개 정식</td>\n",
       "      <td>가격: 6,300원</td>\n",
       "    </tr>\n",
       "    <tr>\n",
       "      <th>11</th>\n",
       "      <td>블루존 스위트 아메리카노</td>\n",
       "      <td>가격: 1,500원</td>\n",
       "    </tr>\n",
       "    <tr>\n",
       "      <th>12</th>\n",
       "      <td>아이스 애플망고</td>\n",
       "      <td>가격: 1,500원</td>\n",
       "    </tr>\n",
       "    <tr>\n",
       "      <th>13</th>\n",
       "      <td>매화(치킨, 연어구이)</td>\n",
       "      <td>가격: 10,000원</td>\n",
       "    </tr>\n",
       "    <tr>\n",
       "      <th>14</th>\n",
       "      <td>매화(순살 고등어 간장구이)</td>\n",
       "      <td>가격: 10,000원</td>\n",
       "    </tr>\n",
       "    <tr>\n",
       "      <th>15</th>\n",
       "      <td>진달래</td>\n",
       "      <td>가격: 7,000원</td>\n",
       "    </tr>\n",
       "    <tr>\n",
       "      <th>16</th>\n",
       "      <td>개나리(순살 고등어 간장구이)</td>\n",
       "      <td>가격: 8,000원</td>\n",
       "    </tr>\n",
       "    <tr>\n",
       "      <th>17</th>\n",
       "      <td>돈까스도련님고기고기</td>\n",
       "      <td>가격: 5,600원</td>\n",
       "    </tr>\n",
       "    <tr>\n",
       "      <th>18</th>\n",
       "      <td>탕수육도련님고기고기</td>\n",
       "      <td>가격: 5,600원</td>\n",
       "    </tr>\n",
       "    <tr>\n",
       "      <th>19</th>\n",
       "      <td>새치 고기고기</td>\n",
       "      <td>가격: 6,000원</td>\n",
       "    </tr>\n",
       "    <tr>\n",
       "      <th>20</th>\n",
       "      <td>돈치 고기고기</td>\n",
       "      <td>가격: 5,300원</td>\n",
       "    </tr>\n",
       "    <tr>\n",
       "      <th>21</th>\n",
       "      <td>고기고기</td>\n",
       "      <td>가격: 4,000원</td>\n",
       "    </tr>\n",
       "    <tr>\n",
       "      <th>22</th>\n",
       "      <td>숯불직화구이</td>\n",
       "      <td>가격: 6,500원</td>\n",
       "    </tr>\n",
       "    <tr>\n",
       "      <th>23</th>\n",
       "      <td>소불고기</td>\n",
       "      <td>가격: 5,000원</td>\n",
       "    </tr>\n",
       "    <tr>\n",
       "      <th>24</th>\n",
       "      <td>메가치킨제육</td>\n",
       "      <td>가격: 6,900원</td>\n",
       "    </tr>\n",
       "    <tr>\n",
       "      <th>25</th>\n",
       "      <td>칠리 찹쌀탕수육도련님</td>\n",
       "      <td>가격: 4,000원</td>\n",
       "    </tr>\n",
       "    <tr>\n",
       "      <th>26</th>\n",
       "      <td>동백</td>\n",
       "      <td>가격: 5,000원</td>\n",
       "    </tr>\n",
       "    <tr>\n",
       "      <th>27</th>\n",
       "      <td>치킨제육</td>\n",
       "      <td>가격: 4,400원</td>\n",
       "    </tr>\n",
       "    <tr>\n",
       "      <th>28</th>\n",
       "      <td>돈까스도련님</td>\n",
       "      <td>가격: 4,000원</td>\n",
       "    </tr>\n",
       "    <tr>\n",
       "      <th>29</th>\n",
       "      <td>제육볶음</td>\n",
       "      <td>가격: 3,900원</td>\n",
       "    </tr>\n",
       "    <tr>\n",
       "      <th>30</th>\n",
       "      <td>고추장숯불삼겹정식</td>\n",
       "      <td>가격: 9,000원</td>\n",
       "    </tr>\n",
       "    <tr>\n",
       "      <th>31</th>\n",
       "      <td>숯불삼겹정식</td>\n",
       "      <td>가격: 8,500원</td>\n",
       "    </tr>\n",
       "    <tr>\n",
       "      <th>32</th>\n",
       "      <td>제육 김치찌개 정식</td>\n",
       "      <td>가격: 8,000원</td>\n",
       "    </tr>\n",
       "    <tr>\n",
       "      <th>33</th>\n",
       "      <td>메가스팸마요</td>\n",
       "      <td>가격: 5,500원</td>\n",
       "    </tr>\n",
       "    <tr>\n",
       "      <th>34</th>\n",
       "      <td>스팸마요</td>\n",
       "      <td>가격: 3,500원</td>\n",
       "    </tr>\n",
       "    <tr>\n",
       "      <th>35</th>\n",
       "      <td>메가치킨마요</td>\n",
       "      <td>가격: 5,200원</td>\n",
       "    </tr>\n",
       "    <tr>\n",
       "      <th>36</th>\n",
       "      <td>왕치킨마요</td>\n",
       "      <td>가격: 4,200원</td>\n",
       "    </tr>\n",
       "    <tr>\n",
       "      <th>37</th>\n",
       "      <td>빅치킨마요</td>\n",
       "      <td>가격: 3,500원</td>\n",
       "    </tr>\n",
       "    <tr>\n",
       "      <th>38</th>\n",
       "      <td>치킨마요</td>\n",
       "      <td>가격: 2,900원</td>\n",
       "    </tr>\n",
       "    <tr>\n",
       "      <th>39</th>\n",
       "      <td>참치마요</td>\n",
       "      <td>가격: 2,900원</td>\n",
       "    </tr>\n",
       "    <tr>\n",
       "      <th>40</th>\n",
       "      <td>돈치마요</td>\n",
       "      <td>가격: 3,500원</td>\n",
       "    </tr>\n",
       "    <tr>\n",
       "      <th>41</th>\n",
       "      <td>치즈 카레도시락</td>\n",
       "      <td>가격: 4,100원</td>\n",
       "    </tr>\n",
       "    <tr>\n",
       "      <th>42</th>\n",
       "      <td>돈까스 카레</td>\n",
       "      <td>가격: 4,100원</td>\n",
       "    </tr>\n",
       "    <tr>\n",
       "      <th>43</th>\n",
       "      <td>3종치즈 김치볶음밥</td>\n",
       "      <td>가격: 4,700원</td>\n",
       "    </tr>\n",
       "    <tr>\n",
       "      <th>44</th>\n",
       "      <td>스팸 김치볶음밥</td>\n",
       "      <td>가격: 4,500원</td>\n",
       "    </tr>\n",
       "    <tr>\n",
       "      <th>45</th>\n",
       "      <td>김치볶음밥</td>\n",
       "      <td>가격: 3,700원</td>\n",
       "    </tr>\n",
       "    <tr>\n",
       "      <th>46</th>\n",
       "      <td>스팸철판볶음밥</td>\n",
       "      <td>가격: 4,500원</td>\n",
       "    </tr>\n",
       "    <tr>\n",
       "      <th>47</th>\n",
       "      <td>소불고기 철판볶음밥</td>\n",
       "      <td>가격: 4,500원</td>\n",
       "    </tr>\n",
       "    <tr>\n",
       "      <th>48</th>\n",
       "      <td>소고기 육개장</td>\n",
       "      <td>가격: 4,500원</td>\n",
       "    </tr>\n",
       "    <tr>\n",
       "      <th>49</th>\n",
       "      <td>묵은지 김치찌개</td>\n",
       "      <td>가격: 4,300원</td>\n",
       "    </tr>\n",
       "    <tr>\n",
       "      <th>50</th>\n",
       "      <td>고추장숯불삼겹덮밥</td>\n",
       "      <td>가격: 6,500원</td>\n",
       "    </tr>\n",
       "    <tr>\n",
       "      <th>51</th>\n",
       "      <td>숯불직화구이 덮밥</td>\n",
       "      <td>가격: 5,700원</td>\n",
       "    </tr>\n",
       "    <tr>\n",
       "      <th>52</th>\n",
       "      <td>왕카레돈까스덮밥</td>\n",
       "      <td>가격: 5,600원</td>\n",
       "    </tr>\n",
       "    <tr>\n",
       "      <th>53</th>\n",
       "      <td>새우돈까스 덮밥</td>\n",
       "      <td>가격: 3,900원</td>\n",
       "    </tr>\n",
       "    <tr>\n",
       "      <th>54</th>\n",
       "      <td>돈까스 덮밥</td>\n",
       "      <td>가격: 3,600원</td>\n",
       "    </tr>\n",
       "    <tr>\n",
       "      <th>55</th>\n",
       "      <td>소불고기 감초고추장 비빔밥</td>\n",
       "      <td>가격: 4,800원</td>\n",
       "    </tr>\n",
       "    <tr>\n",
       "      <th>56</th>\n",
       "      <td>시골제육 두부강된장 비빔밥</td>\n",
       "      <td>가격: 4,800원</td>\n",
       "    </tr>\n",
       "    <tr>\n",
       "      <th>57</th>\n",
       "      <td>참치야채 감초고추장</td>\n",
       "      <td>가격: 3,200원</td>\n",
       "    </tr>\n",
       "    <tr>\n",
       "      <th>58</th>\n",
       "      <td>튼튼도시락</td>\n",
       "      <td>가격: 5,000원</td>\n",
       "    </tr>\n",
       "  </tbody>\n",
       "</table>\n",
       "</div>"
      ],
      "text/plain": [
       "                  메뉴           가격\n",
       "0       토네이도 소세지 파스타   가격: 5,500원\n",
       "1         트리플 치즈 파스타   가격: 5,500원\n",
       "2         토마토 미트 파스타   가격: 4,500원\n",
       "3        반찬 토네이도 소세지   가격: 2,600원\n",
       "4         고메이 크림 고로케   가격: 3,500원\n",
       "5         치킨스테이크 스페셜  가격: 10,000원\n",
       "6          치킨스테이크 덮밥   가격: 5,700원\n",
       "7       돈치스팸 김치찌개 정식   가격: 8,000원\n",
       "8           돈치스팸 도시락   가격: 4,600원\n",
       "9      빅치킨마요 김치찌개 정식   가격: 6,900원\n",
       "10      치킨마요 김치찌개 정식   가격: 6,300원\n",
       "11     블루존 스위트 아메리카노   가격: 1,500원\n",
       "12          아이스 애플망고   가격: 1,500원\n",
       "13      매화(치킨, 연어구이)  가격: 10,000원\n",
       "14   매화(순살 고등어 간장구이)  가격: 10,000원\n",
       "15               진달래   가격: 7,000원\n",
       "16  개나리(순살 고등어 간장구이)   가격: 8,000원\n",
       "17        돈까스도련님고기고기   가격: 5,600원\n",
       "18        탕수육도련님고기고기   가격: 5,600원\n",
       "19           새치 고기고기   가격: 6,000원\n",
       "20           돈치 고기고기   가격: 5,300원\n",
       "21              고기고기   가격: 4,000원\n",
       "22            숯불직화구이   가격: 6,500원\n",
       "23              소불고기   가격: 5,000원\n",
       "24            메가치킨제육   가격: 6,900원\n",
       "25       칠리 찹쌀탕수육도련님   가격: 4,000원\n",
       "26                동백   가격: 5,000원\n",
       "27              치킨제육   가격: 4,400원\n",
       "28            돈까스도련님   가격: 4,000원\n",
       "29              제육볶음   가격: 3,900원\n",
       "30         고추장숯불삼겹정식   가격: 9,000원\n",
       "31            숯불삼겹정식   가격: 8,500원\n",
       "32        제육 김치찌개 정식   가격: 8,000원\n",
       "33            메가스팸마요   가격: 5,500원\n",
       "34              스팸마요   가격: 3,500원\n",
       "35            메가치킨마요   가격: 5,200원\n",
       "36             왕치킨마요   가격: 4,200원\n",
       "37             빅치킨마요   가격: 3,500원\n",
       "38              치킨마요   가격: 2,900원\n",
       "39              참치마요   가격: 2,900원\n",
       "40              돈치마요   가격: 3,500원\n",
       "41          치즈 카레도시락   가격: 4,100원\n",
       "42            돈까스 카레   가격: 4,100원\n",
       "43        3종치즈 김치볶음밥   가격: 4,700원\n",
       "44          스팸 김치볶음밥   가격: 4,500원\n",
       "45             김치볶음밥   가격: 3,700원\n",
       "46           스팸철판볶음밥   가격: 4,500원\n",
       "47        소불고기 철판볶음밥   가격: 4,500원\n",
       "48           소고기 육개장   가격: 4,500원\n",
       "49          묵은지 김치찌개   가격: 4,300원\n",
       "50         고추장숯불삼겹덮밥   가격: 6,500원\n",
       "51         숯불직화구이 덮밥   가격: 5,700원\n",
       "52          왕카레돈까스덮밥   가격: 5,600원\n",
       "53          새우돈까스 덮밥   가격: 3,900원\n",
       "54            돈까스 덮밥   가격: 3,600원\n",
       "55    소불고기 감초고추장 비빔밥   가격: 4,800원\n",
       "56    시골제육 두부강된장 비빔밥   가격: 4,800원\n",
       "57        참치야채 감초고추장   가격: 3,200원\n",
       "58             튼튼도시락   가격: 5,000원"
      ]
     },
     "execution_count": 91,
     "metadata": {},
     "output_type": "execute_result"
    }
   ],
   "source": [
    "pd.DataFrame(data)"
   ]
  },
  {
   "cell_type": "code",
   "execution_count": 92,
   "metadata": {},
   "outputs": [],
   "source": [
    "pd.set_option('display.max_row',10)"
   ]
  },
  {
   "cell_type": "code",
   "execution_count": null,
   "metadata": {},
   "outputs": [],
   "source": []
  }
 ],
 "metadata": {
  "kernelspec": {
   "display_name": "Python 3",
   "language": "python",
   "name": "python3"
  },
  "language_info": {
   "codemirror_mode": {
    "name": "ipython",
    "version": 3
   },
   "file_extension": ".py",
   "mimetype": "text/x-python",
   "name": "python",
   "nbconvert_exporter": "python",
   "pygments_lexer": "ipython3",
   "version": "3.8.5"
  }
 },
 "nbformat": 4,
 "nbformat_minor": 4
}
